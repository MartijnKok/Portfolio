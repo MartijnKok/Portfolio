{
 "cells": [
  {
   "cell_type": "markdown",
   "id": "76599550",
   "metadata": {},
   "source": [
    "# Learning Lab Data Preparation"
   ]
  },
  {
   "cell_type": "markdown",
   "id": "49d5b1e1",
   "metadata": {},
   "source": [
    "In this jupyter notebook the importance of data preperation is showcased. "
   ]
  },
  {
   "cell_type": "code",
   "execution_count": 87,
   "id": "036a112c",
   "metadata": {},
   "outputs": [],
   "source": [
    "import numpy as np\n",
    "import pandas as pd\n",
    "import statistics as cal\n",
    "import seaborn as sns\n",
    "from scipy import signal\n",
    "import matplotlib.pyplot as plt\n",
    "from sklearn.model_selection import train_test_split\n",
    "from sklearn.tree import DecisionTreeClassifier\n",
    "from sklearn.metrics import accuracy_score, f1_score, precision_score, recall_score, classification_report, plot_confusion_matrix, confusion_matrix"
   ]
  },
  {
   "cell_type": "markdown",
   "id": "22e7ca55",
   "metadata": {},
   "source": [
    "## Define Butterworth filter\n",
    "In this notebook a lowpass filter will be used to filter out high frequencies in the data. For the lowpass filter a fifth order Butterworth filter is used. The setting of a Butterworth filter are the Cuttoff frequency, the variable that must be filtered and the sampling frequency."
   ]
  },
  {
   "cell_type": "code",
   "execution_count": 88,
   "id": "66bab988",
   "metadata": {},
   "outputs": [],
   "source": [
    "def lpfilter(cutoff_freq,var1,sampling_freq):\n",
    "    Order = 5\n",
    "    sampling_duration = len(var1)/5\n",
    "\n",
    "    normalized_cutoff_freq = 2 * cutoff_freq / sampling_freq\n",
    "    numerator_coeffs, denominator_coeffs = signal.butter(Order, normalized_cutoff_freq)\n",
    "    filtered_var1 = signal.lfilter(numerator_coeffs, denominator_coeffs, var1)\n",
    "    \n",
    "    return filtered_var1"
   ]
  },
  {
   "cell_type": "markdown",
   "id": "9c163704",
   "metadata": {},
   "source": [
    "## Importing data from Kaggle\n",
    "The data that is used in this notebook is from Kaggle.com. The data consist of phone sensor data that was collected when people were walking or running. The link to the data is https://www.kaggle.com/vmalyi/run-or-walk"
   ]
  },
  {
   "cell_type": "code",
   "execution_count": 89,
   "id": "1e48e19f",
   "metadata": {},
   "outputs": [
    {
     "data": {
      "text/html": [
       "<div>\n",
       "<style scoped>\n",
       "    .dataframe tbody tr th:only-of-type {\n",
       "        vertical-align: middle;\n",
       "    }\n",
       "\n",
       "    .dataframe tbody tr th {\n",
       "        vertical-align: top;\n",
       "    }\n",
       "\n",
       "    .dataframe thead th {\n",
       "        text-align: right;\n",
       "    }\n",
       "</style>\n",
       "<table border=\"1\" class=\"dataframe\">\n",
       "  <thead>\n",
       "    <tr style=\"text-align: right;\">\n",
       "      <th></th>\n",
       "      <th>date</th>\n",
       "      <th>time</th>\n",
       "      <th>username</th>\n",
       "      <th>wrist</th>\n",
       "      <th>activity</th>\n",
       "      <th>acceleration_x</th>\n",
       "      <th>acceleration_y</th>\n",
       "      <th>acceleration_z</th>\n",
       "      <th>gyro_x</th>\n",
       "      <th>gyro_y</th>\n",
       "      <th>gyro_z</th>\n",
       "    </tr>\n",
       "  </thead>\n",
       "  <tbody>\n",
       "    <tr>\n",
       "      <th>0</th>\n",
       "      <td>2017-6-30</td>\n",
       "      <td>13:51:15:847724020</td>\n",
       "      <td>viktor</td>\n",
       "      <td>0</td>\n",
       "      <td>0</td>\n",
       "      <td>0.2650</td>\n",
       "      <td>-0.7814</td>\n",
       "      <td>-0.0076</td>\n",
       "      <td>-0.0590</td>\n",
       "      <td>0.0325</td>\n",
       "      <td>-2.9296</td>\n",
       "    </tr>\n",
       "    <tr>\n",
       "      <th>1</th>\n",
       "      <td>2017-6-30</td>\n",
       "      <td>13:51:16:246945023</td>\n",
       "      <td>viktor</td>\n",
       "      <td>0</td>\n",
       "      <td>0</td>\n",
       "      <td>0.6722</td>\n",
       "      <td>-1.1233</td>\n",
       "      <td>-0.2344</td>\n",
       "      <td>-0.1757</td>\n",
       "      <td>0.0208</td>\n",
       "      <td>0.1269</td>\n",
       "    </tr>\n",
       "    <tr>\n",
       "      <th>2</th>\n",
       "      <td>2017-6-30</td>\n",
       "      <td>13:51:16:446233987</td>\n",
       "      <td>viktor</td>\n",
       "      <td>0</td>\n",
       "      <td>0</td>\n",
       "      <td>0.4399</td>\n",
       "      <td>-1.4817</td>\n",
       "      <td>0.0722</td>\n",
       "      <td>-0.9105</td>\n",
       "      <td>0.1063</td>\n",
       "      <td>-2.4367</td>\n",
       "    </tr>\n",
       "    <tr>\n",
       "      <th>3</th>\n",
       "      <td>2017-6-30</td>\n",
       "      <td>13:51:16:646117985</td>\n",
       "      <td>viktor</td>\n",
       "      <td>0</td>\n",
       "      <td>0</td>\n",
       "      <td>0.3031</td>\n",
       "      <td>-0.8125</td>\n",
       "      <td>0.0888</td>\n",
       "      <td>0.1199</td>\n",
       "      <td>-0.4099</td>\n",
       "      <td>-2.9336</td>\n",
       "    </tr>\n",
       "    <tr>\n",
       "      <th>4</th>\n",
       "      <td>2017-6-30</td>\n",
       "      <td>13:51:16:846738994</td>\n",
       "      <td>viktor</td>\n",
       "      <td>0</td>\n",
       "      <td>0</td>\n",
       "      <td>0.4814</td>\n",
       "      <td>-0.9312</td>\n",
       "      <td>0.0359</td>\n",
       "      <td>0.0527</td>\n",
       "      <td>0.4379</td>\n",
       "      <td>2.4922</td>\n",
       "    </tr>\n",
       "  </tbody>\n",
       "</table>\n",
       "</div>"
      ],
      "text/plain": [
       "        date                time username  wrist  activity  acceleration_x  \\\n",
       "0  2017-6-30  13:51:15:847724020   viktor      0         0          0.2650   \n",
       "1  2017-6-30  13:51:16:246945023   viktor      0         0          0.6722   \n",
       "2  2017-6-30  13:51:16:446233987   viktor      0         0          0.4399   \n",
       "3  2017-6-30  13:51:16:646117985   viktor      0         0          0.3031   \n",
       "4  2017-6-30  13:51:16:846738994   viktor      0         0          0.4814   \n",
       "\n",
       "   acceleration_y  acceleration_z  gyro_x  gyro_y  gyro_z  \n",
       "0         -0.7814         -0.0076 -0.0590  0.0325 -2.9296  \n",
       "1         -1.1233         -0.2344 -0.1757  0.0208  0.1269  \n",
       "2         -1.4817          0.0722 -0.9105  0.1063 -2.4367  \n",
       "3         -0.8125          0.0888  0.1199 -0.4099 -2.9336  \n",
       "4         -0.9312          0.0359  0.0527  0.4379  2.4922  "
      ]
     },
     "execution_count": 89,
     "metadata": {},
     "output_type": "execute_result"
    }
   ],
   "source": [
    "df = pd.read_csv('dataset.csv')\n",
    "df.head()"
   ]
  },
  {
   "cell_type": "markdown",
   "id": "9b9d38a0",
   "metadata": {},
   "source": [
    "## Dropping columns that are not needed\n",
    "Not all data of the imported dataframe is needed. Some features like the time, date and user aren't important"
   ]
  },
  {
   "cell_type": "code",
   "execution_count": 90,
   "id": "5867a8c7",
   "metadata": {},
   "outputs": [
    {
     "data": {
      "text/html": [
       "<div>\n",
       "<style scoped>\n",
       "    .dataframe tbody tr th:only-of-type {\n",
       "        vertical-align: middle;\n",
       "    }\n",
       "\n",
       "    .dataframe tbody tr th {\n",
       "        vertical-align: top;\n",
       "    }\n",
       "\n",
       "    .dataframe thead th {\n",
       "        text-align: right;\n",
       "    }\n",
       "</style>\n",
       "<table border=\"1\" class=\"dataframe\">\n",
       "  <thead>\n",
       "    <tr style=\"text-align: right;\">\n",
       "      <th></th>\n",
       "      <th>activity</th>\n",
       "      <th>acceleration_x</th>\n",
       "      <th>acceleration_y</th>\n",
       "      <th>acceleration_z</th>\n",
       "      <th>gyro_x</th>\n",
       "      <th>gyro_y</th>\n",
       "      <th>gyro_z</th>\n",
       "    </tr>\n",
       "  </thead>\n",
       "  <tbody>\n",
       "    <tr>\n",
       "      <th>0</th>\n",
       "      <td>0</td>\n",
       "      <td>0.2650</td>\n",
       "      <td>-0.7814</td>\n",
       "      <td>-0.0076</td>\n",
       "      <td>-0.0590</td>\n",
       "      <td>0.0325</td>\n",
       "      <td>-2.9296</td>\n",
       "    </tr>\n",
       "    <tr>\n",
       "      <th>1</th>\n",
       "      <td>0</td>\n",
       "      <td>0.6722</td>\n",
       "      <td>-1.1233</td>\n",
       "      <td>-0.2344</td>\n",
       "      <td>-0.1757</td>\n",
       "      <td>0.0208</td>\n",
       "      <td>0.1269</td>\n",
       "    </tr>\n",
       "    <tr>\n",
       "      <th>2</th>\n",
       "      <td>0</td>\n",
       "      <td>0.4399</td>\n",
       "      <td>-1.4817</td>\n",
       "      <td>0.0722</td>\n",
       "      <td>-0.9105</td>\n",
       "      <td>0.1063</td>\n",
       "      <td>-2.4367</td>\n",
       "    </tr>\n",
       "    <tr>\n",
       "      <th>3</th>\n",
       "      <td>0</td>\n",
       "      <td>0.3031</td>\n",
       "      <td>-0.8125</td>\n",
       "      <td>0.0888</td>\n",
       "      <td>0.1199</td>\n",
       "      <td>-0.4099</td>\n",
       "      <td>-2.9336</td>\n",
       "    </tr>\n",
       "    <tr>\n",
       "      <th>4</th>\n",
       "      <td>0</td>\n",
       "      <td>0.4814</td>\n",
       "      <td>-0.9312</td>\n",
       "      <td>0.0359</td>\n",
       "      <td>0.0527</td>\n",
       "      <td>0.4379</td>\n",
       "      <td>2.4922</td>\n",
       "    </tr>\n",
       "  </tbody>\n",
       "</table>\n",
       "</div>"
      ],
      "text/plain": [
       "   activity  acceleration_x  acceleration_y  acceleration_z  gyro_x  gyro_y  \\\n",
       "0         0          0.2650         -0.7814         -0.0076 -0.0590  0.0325   \n",
       "1         0          0.6722         -1.1233         -0.2344 -0.1757  0.0208   \n",
       "2         0          0.4399         -1.4817          0.0722 -0.9105  0.1063   \n",
       "3         0          0.3031         -0.8125          0.0888  0.1199 -0.4099   \n",
       "4         0          0.4814         -0.9312          0.0359  0.0527  0.4379   \n",
       "\n",
       "   gyro_z  \n",
       "0 -2.9296  \n",
       "1  0.1269  \n",
       "2 -2.4367  \n",
       "3 -2.9336  \n",
       "4  2.4922  "
      ]
     },
     "execution_count": 90,
     "metadata": {},
     "output_type": "execute_result"
    }
   ],
   "source": [
    "df = df.drop(['date','username','time','wrist'], axis=1)\n",
    "df.head()"
   ]
  },
  {
   "cell_type": "markdown",
   "id": "88379da9",
   "metadata": {},
   "source": [
    "## Splitting data into train and test"
   ]
  },
  {
   "cell_type": "markdown",
   "id": "86106b66",
   "metadata": {},
   "source": [
    "### Train model without any operations\n",
    "Before preparing data with lowpass filters or any other methodes we will set a baseline with a Decision tree model and basic inputs. To ensure every decisiontree is the same a randomstate of 6 is choosen for every decision tree."
   ]
  },
  {
   "cell_type": "code",
   "execution_count": 91,
   "id": "b0f2d362",
   "metadata": {},
   "outputs": [
    {
     "name": "stdout",
     "output_type": "stream",
     "text": [
      "Accuracy = 0.9819957105768146\n",
      "Precision = 0.9819908989103524\n",
      "Recall = 0.9820043307146061\n"
     ]
    }
   ],
   "source": [
    "data = df.values\n",
    "X = data[:,1:]\n",
    "y = data[:,0]\n",
    "X_train, X_test, y_train, y_test = train_test_split(X,y,test_size=0.2,random_state=42)\n",
    "model= DecisionTreeClassifier(random_state=6)\n",
    "model.fit(X_train,y_train)\n",
    "\n",
    "Accuracy_nofilt =  model.score(X_test,y_test)\n",
    "Precision_nofilt = precision_score(y_test,model.predict(X_test), average='macro')\n",
    "Recall_nofilt = recall_score(y_test,model.predict(X_test), average='macro')\n",
    "\n",
    "print(\"Accuracy = \" + str(Accuracy_nofilt))\n",
    "print(\"Precision = \" + str(Precision_nofilt))\n",
    "print(\"Recall = \" + str(Recall_nofilt))"
   ]
  },
  {
   "cell_type": "markdown",
   "id": "864d4cd8",
   "metadata": {},
   "source": [
    "### Balancing of Data"
   ]
  },
  {
   "cell_type": "code",
   "execution_count": 92,
   "id": "1f9fd35c",
   "metadata": {},
   "outputs": [
    {
     "name": "stderr",
     "output_type": "stream",
     "text": [
      "/opt/jupyterhub/anaconda/lib/python3.8/site-packages/seaborn/_decorators.py:36: FutureWarning: Pass the following variable as a keyword arg: x. From version 0.12, the only valid positional argument will be `data`, and passing other arguments without an explicit keyword will result in an error or misinterpretation.\n",
      "  warnings.warn(\n"
     ]
    },
    {
     "data": {
      "text/plain": [
       "<AxesSubplot:xlabel='activity', ylabel='count'>"
      ]
     },
     "execution_count": 92,
     "metadata": {},
     "output_type": "execute_result"
    },
    {
     "data": {
      "image/png": "[encoded data removed]",
      "text/plain": [
       "<Figure size 432x288 with 1 Axes>"
      ]
     },
     "metadata": {
      "needs_background": "light"
     },
     "output_type": "display_data"
    }
   ],
   "source": [
    "sns.countplot(df['activity'])"
   ]
  },
  {
   "cell_type": "code",
   "execution_count": 93,
   "id": "ce0f2ea3",
   "metadata": {},
   "outputs": [
    {
     "name": "stdout",
     "output_type": "stream",
     "text": [
      "Accuracy = 0.9823907890281071\n",
      "Precision = 0.9823859992975388\n",
      "Recall = 0.9823997678868472\n"
     ]
    }
   ],
   "source": [
    "model= DecisionTreeClassifier(random_state=6, class_weight='balanced')\n",
    "model.fit(X_train,y_train)\n",
    "\n",
    "Accuracy_Balanc =  model.score(X_test,y_test)\n",
    "Precision_Balanc = precision_score(y_test,model.predict(X_test), average='macro')\n",
    "Recall_Balanc = recall_score(y_test,model.predict(X_test), average='macro')\n",
    "\n",
    "print(\"Accuracy = \" + str(Accuracy_Balanc))\n",
    "print(\"Precision = \" + str(Precision_Balanc))\n",
    "print(\"Recall = \" + str(Recall_Balanc))"
   ]
  },
  {
   "cell_type": "markdown",
   "id": "b7e69421",
   "metadata": {},
   "source": [
    "### Train/Tune model with LP-filter\n",
    "Now we will look if we can improve the Recall, Precision and accuracy with a Lowpass Filter. We will try different cuttoff frequencies and choose the best"
   ]
  },
  {
   "cell_type": "code",
   "execution_count": 94,
   "id": "ae310d89",
   "metadata": {},
   "outputs": [],
   "source": [
    "Recall =[]\n",
    "Precision =[]\n",
    "Model_score = []\n",
    "Cuttoff_freq = np.arange(0.1,2.4,0.1)\n",
    "\n",
    "for x in Cuttoff_freq:\n",
    "    df.gyro_y = lpfilter(x,df.gyro_y,5)\n",
    "    data = df.values\n",
    "    X = data[:,1:]\n",
    "    y = data[:,0]\n",
    "    X_train, X_test, y_train, y_test = train_test_split(X,y,test_size=0.2,random_state=42)\n",
    "    model= DecisionTreeClassifier(random_state=6)\n",
    "    model.fit(X_train,y_train)\n",
    "    Recall.append(recall_score(y_test,model.predict(X_test), average='macro'))\n",
    "    Precision.append(precision_score(y_test,model.predict(X_test), average='macro'))\n",
    "    Model_score.append(model.score(X_test,y_test))"
   ]
  },
  {
   "cell_type": "markdown",
   "id": "695f5a56",
   "metadata": {},
   "source": [
    "## Validate Results"
   ]
  },
  {
   "cell_type": "code",
   "execution_count": 95,
   "id": "e05fb2f3",
   "metadata": {},
   "outputs": [
    {
     "data": {
      "image/png": "[encoded data removed]",
      "text/plain": [
       "<Figure size 432x288 with 1 Axes>"
      ]
     },
     "metadata": {
      "needs_background": "light"
     },
     "output_type": "display_data"
    }
   ],
   "source": [
    "plt.plot(Cuttoff_freq,Recall)\n",
    "plt.axhline(y=Recall_nofilt, color='r')\n",
    "plt.show()"
   ]
  },
  {
   "cell_type": "code",
   "execution_count": 96,
   "id": "9bfb0e8f",
   "metadata": {},
   "outputs": [
    {
     "name": "stdout",
     "output_type": "stream",
     "text": [
      "Accuracy = 0.9844790608420815\n",
      "Best Recall = 0.9844877732523614\n",
      "Cuttof frequency = 0.7000000000000001\n"
     ]
    }
   ],
   "source": [
    "Recall_max = max(Recall)\n",
    "Cuttoff_max = Cuttoff_freq[Recall.index(Recall_max)]\n",
    "Accuracy_lp = Model_score[Recall.index(Recall_max)]\n",
    "\n",
    "print(\"Accuracy = \" + str(Model_max))\n",
    "print(\"Best Recall = \" + str(Recall_max))\n",
    "print(\"Cuttof frequency = \" + str(Cuttoff_max))"
   ]
  },
  {
   "cell_type": "markdown",
   "id": "d89f2de1",
   "metadata": {},
   "source": [
    "# Mathematical functions to support your data\n",
    "Re-import the data"
   ]
  },
  {
   "cell_type": "code",
   "execution_count": 97,
   "id": "8a8504d2",
   "metadata": {},
   "outputs": [],
   "source": [
    "df = pd.read_csv('dataset.csv')\n",
    "df = df.drop(['date','username','time','wrist'], axis=1)"
   ]
  },
  {
   "cell_type": "markdown",
   "id": "8c1bb68d",
   "metadata": {},
   "source": [
    "Mathematical functions like dividing or the sum of different features can be used to improve the accuracy of a model. Also a differential equation can support your model"
   ]
  },
  {
   "cell_type": "code",
   "execution_count": 98,
   "id": "7ac3f642",
   "metadata": {},
   "outputs": [],
   "source": [
    "df['Sum'] = df.acceleration_z*df.gyro_z\n",
    "df['Diff'] = np.insert(np.diff(df.gyro_z,n=1),0,0)"
   ]
  },
  {
   "cell_type": "markdown",
   "id": "8992e3ee",
   "metadata": {},
   "source": [
    "## Validate Results"
   ]
  },
  {
   "cell_type": "code",
   "execution_count": 99,
   "id": "d0e54ff2",
   "metadata": {},
   "outputs": [
    {
     "name": "stdout",
     "output_type": "stream",
     "text": [
      "Accuracy = 0.9862851337622757\n",
      "Precision = 0.9862813674573839\n",
      "Recall = 0.9862980417746334\n"
     ]
    }
   ],
   "source": [
    "data = df.values\n",
    "X = data[:,1:]\n",
    "y = data[:,0]\n",
    "X_train, X_test, y_train, y_test = train_test_split(X,y,test_size=0.2,random_state=42)\n",
    "model= DecisionTreeClassifier(random_state=6)\n",
    "model.fit(X_train,y_train)\n",
    "Accuracy_math = model.score(X_test,y_test)\n",
    "\n",
    "\n",
    "Accuracy_Math =  model.score(X_test,y_test)\n",
    "Precision_Math = precision_score(y_test,model.predict(X_test), average='macro')\n",
    "Recall_Math = recall_score(y_test,model.predict(X_test), average='macro')\n",
    "\n",
    "print(\"Accuracy = \" + str(Accuracy_Math))\n",
    "print(\"Precision = \" + str(Precision_Math))\n",
    "print(\"Recall = \" + str(Recall_Math))"
   ]
  },
  {
   "cell_type": "markdown",
   "id": "5d6e8f29",
   "metadata": {},
   "source": [
    "# Compare results\n",
    "Compare the results of the lowpass filter, Mathematical Functions and normal"
   ]
  },
  {
   "cell_type": "code",
   "execution_count": 100,
   "id": "bf98d965",
   "metadata": {},
   "outputs": [
    {
     "data": {
      "image/png": "[encoded data removed]",
      "text/plain": [
       "<Figure size 432x288 with 1 Axes>"
      ]
     },
     "metadata": {
      "needs_background": "light"
     },
     "output_type": "display_data"
    }
   ],
   "source": [
    "plt.bar(['Normal','Balanced','LP-filter','Math'],[Accuracy_nofilt,Accuracy_Balanc,Accuracy_lp,Accuracy_math])\n",
    "plt.ylim(0.98,0.99)\n",
    "plt.ylabel('Accuracy')\n",
    "plt.title('Comparison Data preparation')\n",
    "plt.show()"
   ]
  },
  {
   "cell_type": "markdown",
   "id": "50d41395",
   "metadata": {},
   "source": [
    "# Can you do better?"
   ]
  },
  {
   "cell_type": "markdown",
   "id": "cadfbd0f",
   "metadata": {},
   "source": [
    "Can you get a better accuracy with just data preperation on this dataset? \n",
    "Email your results before friday this week to 18094627@student.hhs.nl.\n",
    "Winner of the challenge gets a free beer!!!"
   ]
  },
  {
   "cell_type": "code",
   "execution_count": null,
   "id": "9af101f1",
   "metadata": {},
   "outputs": [],
   "source": []
  }
 ],
 "metadata": {
  "kernelspec": {
   "display_name": "Python 3 (ipykernel)",
   "language": "python",
   "name": "python3"
  },
  "language_info": {
   "codemirror_mode": {
    "name": "ipython",
    "version": 3
   },
   "file_extension": ".py",
   "mimetype": "text/x-python",
   "name": "python",
   "nbconvert_exporter": "python",
   "pygments_lexer": "ipython3",
   "version": "3.8.2"
  }
 },
 "nbformat": 4,
 "nbformat_minor": 5
}
