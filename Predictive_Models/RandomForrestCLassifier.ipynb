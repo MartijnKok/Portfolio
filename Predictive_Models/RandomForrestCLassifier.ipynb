{
 "cells": [
  {
   "cell_type": "markdown",
   "id": "117666b8",
   "metadata": {},
   "source": [
    "# Defining Functions"
   ]
  },
  {
   "cell_type": "code",
   "execution_count": 191,
   "id": "bcca66e9",
   "metadata": {},
   "outputs": [],
   "source": [
    "def PredictSprints(CsvFile,Player,Match):\n",
    "    import numpy as np\n",
    "    import pandas as pd\n",
    "    import joblib\n",
    "    from scipy import signal\n",
    "    import statistics as cal\n",
    "    import matplotlib.pyplot as plt\n",
    "    \n",
    "    ######################################### Defining Data preparation function ########################################################\n",
    "    def Dataloader(CsvFile, ChunkSize, ChunkOverlap, OperationList):\n",
    "        df = pd.read_csv(CsvFile)\n",
    "        df = df.fillna(0)\n",
    "        chunks = [df[i:i+ChunkSize] for i in range(0,df.shape[0],ChunkOverlap)]\n",
    "        frames = []\n",
    "\n",
    "        for chunk in chunks:\n",
    "            chunk = chunk.drop(columns=['Unnamed: 0'])\n",
    "            frames.append(chunk)\n",
    "\n",
    "\n",
    "        df_end =[]\n",
    "\n",
    "        for frame in frames:\n",
    "            if len(frame) == 100:\n",
    "                result = [] #Reset the result array\n",
    "                for column in list(frame.columns):\n",
    "\n",
    "                    if column in OperationList: #Check if column is in namelist\n",
    "\n",
    "                        if OperationList[str(column)].values == 'cal.mean': #You can at more function if you want\n",
    "                            X = cal.mean(frame[str(column)].tolist()) #Calculate mean of all columns named in namelist with operation cal.mean\n",
    "\n",
    "                        else: #If the given operations isn't cal.mean\n",
    "                            frame[str(column)] = [abs(ele) for ele in frame[str(column)]] #Get absolute value of all elements in list\n",
    "                            X = max(frame[str(column)].tolist()) #Get single max value from list \n",
    "\n",
    "                    else:\n",
    "                        frame[str(column)] = [abs(ele) for ele in frame[str(column)]] #Get absolute value of all elements in list\n",
    "                        X = max(frame[str(column)].tolist()) #Get single max value from list\n",
    "\n",
    "                    result.append(X) #Append results to list\n",
    "\n",
    "                df_end.append(result) #Append all results into one big list\n",
    "\n",
    "        df_end = pd.DataFrame(df_end, columns = list(frame.columns)) #Convert list to df\n",
    "        return(df_end)\n",
    "    \n",
    "    ######################################### Define LowPass-Filter ########################################################\n",
    "    def LpFilter(df_test):\n",
    "        Order = 5\n",
    "        cutoff_freq = 1.5\n",
    "        sampling_freq = 100\n",
    "        sampling_duration = len(df_test)\n",
    "\n",
    "        normalized_cutoff_freq = 2 * cutoff_freq / sampling_freq\n",
    "        numerator_coeffs, denominator_coeffs = signal.butter(Order, normalized_cutoff_freq)\n",
    "        df_test['Filt_FrameZ'] = signal.lfilter(numerator_coeffs, denominator_coeffs, df_test.frameRotationalSpeedZ)\n",
    "        \n",
    "    ######################################### Main #######################################################################    \n",
    "    df_test = Dataloader(CsvFile, 100, 50, [{ 'wheelRotationalSpeedX' : ['Cal.mean']}])\n",
    "\n",
    "    LpFilter(df_test)\n",
    "    \n",
    "    ######################################### Differnatial equation #######################################################################\n",
    "    df_test['wheelRotationalSpeedXDiff'] = np.insert(np.diff(df_test.wheelRotationalSpeedX,n=1),0,0)\n",
    "    \n",
    "    ######################################### Math functions #######################################################################\n",
    "    df_test['Sum_WheelX_FrameZ'] = df_test.wheelRotationalSpeedX + df_test.frameRotationalSpeedZ\n",
    "    \n",
    "    columns = ['timeLine','frSpeed','frAcc','wheelRotationalSpeedXDiff','frRoAcc',\n",
    "           'frameRotationalSpeedZ','wheelRotationalSpeedX','Filt_FrameZ' ]\n",
    "\n",
    "    X_test = df_test[columns]\n",
    "    \n",
    "    #Calculating results\n",
    "    filename = 'RFC_Model.sav'\n",
    "    model = joblib.load(filename)\n",
    "    X_test['Sprinting'] = model.predict(X_test)\n",
    "    \n",
    "    #Formatting results\n",
    "    df_results = pd.DataFrame(X_test)\n",
    "    \n",
    "    df = pd.read_csv(CsvFile)\n",
    "    \n",
    "    Sprinting = df_results.Sprinting.to_numpy()\n",
    "    timeLine = df_results.timeLine.to_numpy() \n",
    "    \n",
    "    Sprint = False;\n",
    "    SprintStart = []\n",
    "    SprintStop = []\n",
    "    \n",
    "    for i in range(0,len(Sprinting)):\n",
    "        if Sprint == False and Sprinting[i] == 1:\n",
    "            SprintStart.append(timeLine[i])\n",
    "            Sprint = True\n",
    "        elif Sprint == True and Sprinting[i] == False:\n",
    "            SprintStop.append(timeLine[i])\n",
    "            Sprint = False\n",
    "    \n",
    "    Deleted = 0\n",
    "    \n",
    "    for i in range(0,len(SprintStart),1):\n",
    "        if (SprintStop[i-Deleted] - SprintStart[i-Deleted]) <= 2.5:\n",
    "            SprintStart.pop(i-Deleted)\n",
    "            SprintStop.pop(i-Deleted)\n",
    "            Deleted = Deleted + 1\n",
    "            \n",
    "          \n",
    "    for i in range(0,len(SprintStart),1):   \n",
    "        df.loc[(df['timeLine'] >= SprintStart[i]) & (df['timeLine'] <= SprintStop[i]), 'Sprinting'] = 1\n",
    "#        if SprintStop[i] - SprintStart[i] > 12:\n",
    "#            plt.plot(df.timeLine[df['timeLine'].between(SprintStart[i], SprintStop[i])],df.wheelRotationalSpeedX[df_raw['timeLine'].between(SprintStart[i], SprintStop[i])], 'r',\n",
    "#                    df.timeLine[df['timeLine'].between(SprintStart[i], SprintStop[i])],df.frameRotationalSpeedZ[df['timeLine'].between(SprintStart[i], SprintStop[i])], 'b') \n",
    "#            plt.show()\n",
    "    \n",
    "    # Print statistical information\n",
    "    print('Amount of sprints: '+str(len(SprintStart)))\n",
    "    \n",
    "    x = np.subtract(SprintStop, SprintStart)\n",
    "    plt.hist(x, bins='auto', color='#0504aa', alpha=0.7, rwidth=0.85)\n",
    "    plt.title(\"Histogram of Sprint Durations\")\n",
    "    plt.ylabel('Amount of sprints')\n",
    "    plt.xlabel('Duration (s)')\n",
    "    plt.show()\n",
    "    \n",
    "    df = df.fillna(0)\n",
    "    df = df.drop(columns = ['Unnamed: 0'])\n",
    "    \n",
    "    Mean = cal.mean(df.wheelRotationalSpeedX[(df.Sprinting == 1)].to_numpy())\n",
    "    print('The mean of the speed of the sprints: ' + str(Mean))\n",
    "    \n",
    "    df.to_csv('Results_RF_Player'+str(Player)+'_Match'+str(Match)+'.csv')\n",
    "    return df"
   ]
  },
  {
   "cell_type": "code",
   "execution_count": 192,
   "id": "0552d7cf",
   "metadata": {},
   "outputs": [
    {
     "name": "stderr",
     "output_type": "stream",
     "text": [
      "/tmp/ipykernel_27124/530821710.py:75: SettingWithCopyWarning: \n",
      "A value is trying to be set on a copy of a slice from a DataFrame.\n",
      "Try using .loc[row_indexer,col_indexer] = value instead\n",
      "\n",
      "See the caveats in the documentation: https://pandas.pydata.org/pandas-docs/stable/user_guide/indexing.html#returning-a-view-versus-a-copy\n",
      "  X_test['Sprinting'] = model.predict(X_test)\n"
     ]
    },
    {
     "name": "stdout",
     "output_type": "stream",
     "text": [
      "Amount of sprints: 128\n",
      "The mean of the speed of the sprints: 459.08960830418744\n"
     ]
    },
    {
     "data": {
      "image/png": "[encoded data removed]",
      "text/plain": [
       "<Figure size 432x288 with 1 Axes>"
      ]
     },
     "metadata": {
      "needs_background": "light"
     },
     "output_type": "display_data"
    }
   ],
   "source": [
    "df = PredictSprints('matrix_Player_8_game_2_QuarterSplit.csv',8,2)"
   ]
  }
 ],
 "metadata": {
  "kernelspec": {
   "display_name": "Python 3 (ipykernel)",
   "language": "python",
   "name": "python3"
  },
  "language_info": {
   "codemirror_mode": {
    "name": "ipython",
    "version": 3
   },
   "file_extension": ".py",
   "mimetype": "text/x-python",
   "name": "python",
   "nbconvert_exporter": "python",
   "pygments_lexer": "ipython3",
   "version": "3.8.8"
  }
 },
 "nbformat": 4,
 "nbformat_minor": 5
}
