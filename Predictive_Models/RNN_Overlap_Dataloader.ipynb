{
 "cells": [
  {
   "cell_type": "markdown",
   "id": "3b5b9306",
   "metadata": {},
   "source": [
    "# Libraries\n",
    "\n",
    "Import your libraries\n",
    "https://towardsdatascience.com/how-to-use-convolutional-neural-networks-for-time-series-classification-56b1b0a07a57"
   ]
  },
  {
   "cell_type": "code",
   "execution_count": 1,
   "id": "6767672b",
   "metadata": {},
   "outputs": [
    {
     "name": "stdout",
     "output_type": "stream",
     "text": [
      "using gpu 4\n"
     ]
    }
   ],
   "source": [
    "import torch\n",
    "import os\n",
    "import math\n",
    "import numpy as np\n",
    "import pandas as pd\n",
    "from tqdm import tqdm\n",
    "import seaborn as sns\n",
    "from pylab import rcParams\n",
    "import matplotlib.pyplot as plt\n",
    "from torch.utils.data import DataLoader, TensorDataset\n",
    "from matplotlib import rc\n",
    "from sklearn.utils import resample\n",
    "from sklearn.metrics import confusion_matrix, classification_report\n",
    "from torch import nn, optim\n",
    "import torch.nn.functional as F"
   ]
  },
  {
   "cell_type": "markdown",
   "id": "1a9e9f42",
   "metadata": {},
   "source": [
    "# Importing Data\n",
    "\n",
    "Import the CSV file with Actions, Sum and Div as a Dataframe called df. Fill the empty values of Action with 0. \n",
    "Replace NaN values with 0. Delete first 100 rows. "
   ]
  },
  {
   "cell_type": "code",
   "execution_count": 2,
   "id": "1e06fbe8",
   "metadata": {},
   "outputs": [],
   "source": [
    "#load in df\n",
    "Player = 15\n",
    "Game = 2\n",
    "Quarter = 2\n",
    "\n",
    "df = pd.read_csv('matrix_Player_15_game_2_QuarterSplit_V2.csv') #Raw data with overlap\n",
    "\n",
    "chunks = [df[i:i+100] for i in range(0,df.shape[0],50)]\n",
    "\n",
    "df = pd.concat(chunks)\n",
    "\n",
    "df['wheelRotationalSpeedX_Diff'] = np.insert(np.diff(df.wheelRotationalSpeedX,n=1),0,0)\n",
    "\n",
    "#Clean and expand dataset\n",
    "df = df.drop(columns = ['Unnamed: 0'])"
   ]
  },
  {
   "cell_type": "markdown",
   "id": "8dbaf2f8",
   "metadata": {},
   "source": [
    "# Split Data"
   ]
  },
  {
   "cell_type": "code",
   "execution_count": 3,
   "id": "1d077297",
   "metadata": {},
   "outputs": [
    {
     "name": "stderr",
     "output_type": "stream",
     "text": [
      "/opt/jupyterhub/anaconda/lib/python3.9/site-packages/seaborn/_decorators.py:36: FutureWarning: Pass the following variable as a keyword arg: x. From version 0.12, the only valid positional argument will be `data`, and passing other arguments without an explicit keyword will result in an error or misinterpretation.\n",
      "  warnings.warn(\n"
     ]
    },
    {
     "data": {
      "text/plain": [
       "<AxesSubplot:xlabel='Action', ylabel='count'>"
      ]
     },
     "execution_count": 3,
     "metadata": {},
     "output_type": "execute_result"
    },
    {
     "data": {
      "image/png": "[encoded data removed]",
      "text/plain": [
       "<Figure size 432x288 with 1 Axes>"
      ]
     },
     "metadata": {
      "needs_background": "light"
     },
     "output_type": "display_data"
    }
   ],
   "source": [
    "train = df[df.Quarter != Quarter]\n",
    "val = df[df.Quarter == Quarter]\n",
    "\n",
    "sns.countplot(train.Action)"
   ]
  },
  {
   "cell_type": "code",
   "execution_count": 4,
   "id": "b6513456",
   "metadata": {},
   "outputs": [
    {
     "name": "stderr",
     "output_type": "stream",
     "text": [
      "/opt/jupyterhub/anaconda/lib/python3.9/site-packages/seaborn/_decorators.py:36: FutureWarning: Pass the following variable as a keyword arg: x. From version 0.12, the only valid positional argument will be `data`, and passing other arguments without an explicit keyword will result in an error or misinterpretation.\n",
      "  warnings.warn(\n"
     ]
    },
    {
     "data": {
      "text/plain": [
       "<AxesSubplot:xlabel='Action', ylabel='count'>"
      ]
     },
     "execution_count": 4,
     "metadata": {},
     "output_type": "execute_result"
    },
    {
     "data": {
      "image/png": "[encoded data removed]",
      "text/plain": [
       "<Figure size 432x288 with 1 Axes>"
      ]
     },
     "metadata": {
      "needs_background": "light"
     },
     "output_type": "display_data"
    }
   ],
   "source": [
    "for i in range(0,2):\n",
    "    train_correct = (train[train.Action == 1])\n",
    "    train = pd.concat([train, train_correct], ignore_index=True)\n",
    "\n",
    "sns.countplot(train.Action)"
   ]
  },
  {
   "cell_type": "code",
   "execution_count": 5,
   "id": "69f69fd0",
   "metadata": {},
   "outputs": [],
   "source": [
    "def rounddown(x):\n",
    "    return (int(math.ceil(x / 100.0)) * 100) - 100"
   ]
  },
  {
   "cell_type": "code",
   "execution_count": 6,
   "id": "c4dac1e6",
   "metadata": {},
   "outputs": [],
   "source": [
    "features = ['wheelRotationalSpeedX','frameRotationalSpeedY','frAcc','wheelRotationalSpeedX_Diff']\n",
    "\n",
    "X_train = train[features]\n",
    "X_train = X_train.iloc[0:rounddown(len(X_train))]\n",
    "\n",
    "y_train = train[['Action']]\n",
    "y_train = y_train.iloc[0:rounddown(len(y_train))]\n",
    "\n",
    "X_val = val[features]\n",
    "X_val = X_val.iloc[0:rounddown(len(X_val))]\n",
    "\n",
    "y_val = val[['Action']]\n",
    "y_val = y_val.iloc[0:rounddown(len(y_val))]"
   ]
  },
  {
   "cell_type": "code",
   "execution_count": 7,
   "id": "15c6733d",
   "metadata": {},
   "outputs": [],
   "source": [
    "y_train = np.array_split(y_train, int(len(y_train)/100))\n",
    "y_train = np.asarray(y_train)\n",
    "\n",
    "y = []\n",
    "for i in range (0,len(y_train)):\n",
    "    y.append(y_train[i].max())\n",
    "y_train = np.asarray(y)\n",
    "y_train = pd.DataFrame(y_train)\n",
    "\n",
    "\n",
    "y_val = np.array_split(y_val, int(len(y_val)/100))\n",
    "y_val = np.asarray(y_val)\n",
    "\n",
    "y = []\n",
    "for i in range (0,len(y_val)):\n",
    "    y.append(y_val[i].max())\n",
    "y_val = np.asarray(y)\n",
    "y_val = pd.DataFrame(y_val)"
   ]
  },
  {
   "cell_type": "markdown",
   "id": "0ab8c9a0",
   "metadata": {},
   "source": [
    "# Convert the X_train, X_val, y_train, y_val to Tensors"
   ]
  },
  {
   "cell_type": "code",
   "execution_count": 8,
   "id": "8e5666da",
   "metadata": {
    "scrolled": true
   },
   "outputs": [],
   "source": [
    "X_train = torch.from_numpy(X_train.to_numpy()).float()\n",
    "X_train = X_train.unsqueeze_(-1)\n",
    "X_train = X_train.transpose(2, 0)\n",
    "X_train = X_train.transpose(2,1)\n",
    "X_train = torch.reshape(X_train, [-1,100,len(features)])\n",
    "\n",
    "y_train = torch.squeeze(torch.from_numpy(y_train.to_numpy()).float())\n",
    "\n",
    "X_val = torch.from_numpy(X_val.to_numpy()).float()\n",
    "X_val = X_val.unsqueeze_(-1)\n",
    "X_val = X_val.transpose(2,0)\n",
    "X_val = X_val.transpose(2,1)\n",
    "X_val = torch.reshape(X_val, [-1,100,len(features)])\n",
    "\n",
    "y_val = torch.squeeze(torch.from_numpy(y_val.to_numpy()).float())"
   ]
  },
  {
   "cell_type": "markdown",
   "id": "f2a253bc",
   "metadata": {},
   "source": [
    "# Load Data into Dataloader"
   ]
  },
  {
   "cell_type": "code",
   "execution_count": 9,
   "id": "97a9b134",
   "metadata": {},
   "outputs": [],
   "source": [
    "train_ds = TensorDataset(X_train, y_train)\n",
    "train_dl = DataLoader(train_ds, batch_size=64, num_workers = 4, pin_memory = True)"
   ]
  },
  {
   "cell_type": "markdown",
   "id": "3800e3f9",
   "metadata": {},
   "source": [
    "# RNN def\n",
    "Define the Convolutional Neural Network"
   ]
  },
  {
   "cell_type": "code",
   "execution_count": 10,
   "id": "5d08435f",
   "metadata": {},
   "outputs": [],
   "source": [
    "class LSTM(nn.Module):\n",
    "    def __init__(self, hidden_state_size = 250, input_feature_size = len(features)):\n",
    "        super().__init__()\n",
    "        self.hidden_state_size = hidden_state_size\n",
    "        self.feature_size = input_feature_size\n",
    "        self.lstm1 = nn.LSTM(input_feature_size, self.hidden_state_size, batch_first=True)\n",
    "        self.l2 = nn.Linear(self.hidden_state_size, 1)\n",
    "    \n",
    "    def forward(self, x):\n",
    "        h, _ = self.lstm1(x)\n",
    "        h = h[:,-1,:]\n",
    "        y = self.l2(h)\n",
    "        \n",
    "        y = y + x[:,-1,-1:]\n",
    "        \n",
    "        return torch.sigmoid(y)\n",
    "    \n",
    "    def post_forward(self, y): \n",
    "        return torch.round(y)\n",
    "    \n",
    "RNN = LSTM()"
   ]
  },
  {
   "cell_type": "markdown",
   "id": "3327b83b",
   "metadata": {},
   "source": [
    "# Training options"
   ]
  },
  {
   "cell_type": "code",
   "execution_count": 11,
   "id": "22a3a919",
   "metadata": {},
   "outputs": [],
   "source": [
    "criterion = nn.BCELoss()\n",
    "\n",
    "optimizer = optim.Adam(RNN.parameters(), lr=0.001)"
   ]
  },
  {
   "cell_type": "markdown",
   "id": "0343e39a",
   "metadata": {},
   "source": [
    "# Training the RNN on the GPU\n"
   ]
  },
  {
   "cell_type": "code",
   "execution_count": 12,
   "id": "54ce4713",
   "metadata": {
    "scrolled": false
   },
   "outputs": [],
   "source": [
    "device = torch.device(\"cuda:0\" if torch.cuda.is_available() else \"cpu\")\n",
    "\n",
    "X_val = X_val.to(device)\n",
    "y_val = y_val.to(device)\n",
    "\n",
    "RNN = RNN.to(device)\n",
    "criterion = criterion.to(device)"
   ]
  },
  {
   "cell_type": "markdown",
   "id": "5fdef0b1",
   "metadata": {},
   "source": [
    "# Define functions for calculating Accuracy of model"
   ]
  },
  {
   "cell_type": "code",
   "execution_count": 13,
   "id": "af384d59",
   "metadata": {},
   "outputs": [],
   "source": [
    "def calculate_accuracy(y_true, y_pred):\n",
    "    return (y_true == y_pred).sum().float() / len(y_true)"
   ]
  },
  {
   "cell_type": "markdown",
   "id": "93ffc8d0",
   "metadata": {},
   "source": [
    "# For loop through different epochs"
   ]
  },
  {
   "cell_type": "code",
   "execution_count": 14,
   "id": "ca7f0ca7",
   "metadata": {},
   "outputs": [],
   "source": [
    "def round_tensor(t, decimal_places=3):\n",
    "    return round(t.item(), decimal_places)\n",
    "\n",
    "Results_acc = pd.DataFrame(columns = ['Epoch', 'Acc_train', 'Acc_val'])\n",
    "Results_loss = pd.DataFrame(columns = ['Epoch', 'Loss_train', 'Loss_val'])\n",
    "Results_recall = pd.DataFrame(columns = ['Epoch', 'Recall_val'])\n",
    "Results_prec = pd.DataFrame(columns = ['Epoch', 'Prec_val'])\n",
    "\n",
    "for epoch in range(200):\n",
    "    \n",
    "    y_acc = torch.empty((64),dtype= torch.int32, device = 'cuda')\n",
    "    y_pred_acc = torch.empty((64), device = 'cuda')\n",
    "    \n",
    "    for x, y in train_dl:\n",
    "\n",
    "        x, y = x.to(device), y.to(device)\n",
    "\n",
    "        optimizer.zero_grad()\n",
    "        y_pred = RNN(x)\n",
    "        y_pred = y_pred.squeeze(axis = 1)\n",
    "        train_loss = criterion(y_pred, y)\n",
    "        train_loss.backward()\n",
    "        optimizer.step()\n",
    "        \n",
    "        y_acc = torch.concat([y, y_acc], axis = 0)\n",
    "        y_pred_acc = torch.concat([y_pred, y_pred_acc], axis = 0)\n",
    "        \n",
    "    if epoch % 1 == 0:\n",
    "\n",
    "        train_acc = calculate_accuracy(y_acc, RNN.post_forward(y_pred_acc))\n",
    "        train_loss = criterion(y_pred,y)\n",
    "    \n",
    "        y_val_pred = RNN(X_val)\n",
    "        y_val_pred = torch.squeeze(y_val_pred)\n",
    "        val_loss = criterion(y_val_pred, y_val)\n",
    "        val_acc = calculate_accuracy(y_val, RNN.post_forward(y_val_pred))\n",
    "        \n",
    "        Confusion = confusion_matrix(y_val.cpu(),y_val_pred.ge(.5).view(-1).cpu())\n",
    "        val_recall = Confusion[1][1]/(Confusion[1][1] + Confusion[1][0])\n",
    "        val_prec = Confusion[1][1]/(Confusion[0][1] + Confusion[1][1])\n",
    "        \n",
    "        Acc = {'Epoch': epoch, 'Acc_train': round_tensor(train_acc), 'Acc_val': round_tensor(val_acc)}\n",
    "        Loss = {'Epoch': epoch, 'Loss_train': round_tensor(train_loss), 'Loss_val': round_tensor(val_loss)}\n",
    "        Recall = {'Epoch': epoch, 'Recall_val': round_tensor(val_recall)}\n",
    "        Prec = {'Epoch': epoch,'Prec_val': round_tensor(val_prec)}\n",
    "        \n",
    "        Results_acc = Results_acc.append(Acc, ignore_index=True)\n",
    "        Results_loss = Results_loss.append(Loss, ignore_index=True)\n",
    "        Results_recall = Results_recall.append(Recall, ignore_index=True)\n",
    "        Results_prec = Results_prec.append(Prec, ignore_index=True)"
   ]
  },
  {
   "cell_type": "code",
   "execution_count": 15,
   "id": "4fd50f12",
   "metadata": {},
   "outputs": [
    {
     "data": {
      "image/png": "[encoded data removed]",
      "text/plain": [
       "<Figure size 432x288 with 1 Axes>"
      ]
     },
     "metadata": {
      "needs_background": "light"
     },
     "output_type": "display_data"
    },
    {
     "data": {
      "image/png": "[encoded data removed]",
      "text/plain": [
       "<Figure size 432x288 with 1 Axes>"
      ]
     },
     "metadata": {
      "needs_background": "light"
     },
     "output_type": "display_data"
    }
   ],
   "source": [
    "plt.plot(Results_acc.Epoch,Results_acc.Acc_train,'r',Results_acc.Epoch,Results_acc.Acc_val,'b')\n",
    "plt.legend(['Train','Val'])\n",
    "plt.title('Accuracy of RNN')\n",
    "plt.ylabel('Accuracy')\n",
    "plt.xlabel('Epochs')\n",
    "plt.show()\n",
    "\n",
    "plt.plot(Results_loss.Epoch,Results_loss.Loss_train,'r',Results_loss.Epoch,Results_loss.Loss_val,'b')\n",
    "plt.legend(['Train','Val'])\n",
    "plt.title('Loss')\n",
    "plt.ylabel('Loss')\n",
    "plt.xlabel('Epochs')\n",
    "plt.show()"
   ]
  },
  {
   "cell_type": "code",
   "execution_count": 16,
   "id": "3d48917d",
   "metadata": {},
   "outputs": [
    {
     "data": {
      "image/png": "[encoded data removed]",
      "text/plain": [
       "<Figure size 432x288 with 1 Axes>"
      ]
     },
     "metadata": {
      "needs_background": "light"
     },
     "output_type": "display_data"
    },
    {
     "data": {
      "image/png": "[encoded data removed]",
      "text/plain": [
       "<Figure size 432x288 with 1 Axes>"
      ]
     },
     "metadata": {
      "needs_background": "light"
     },
     "output_type": "display_data"
    }
   ],
   "source": [
    "plt.plot(Results_recall.Epoch , Results_recall.Recall_val,'b')\n",
    "plt.legend(['Val'])\n",
    "plt.title('Recall Sprinting = 1')\n",
    "plt.ylabel('Recall')\n",
    "plt.xlabel('Epochs')\n",
    "plt.show()\n",
    "\n",
    "plt.plot(Results_prec.Epoch,Results_prec.Prec_val,'b')\n",
    "plt.legend(['Val'])\n",
    "plt.title('Precision Sprinting = 1')\n",
    "plt.ylabel('Precision')\n",
    "plt.xlabel('Epochs')\n",
    "plt.show()"
   ]
  },
  {
   "cell_type": "markdown",
   "id": "505a2a3f",
   "metadata": {},
   "source": [
    "# Validate/Tune Model\n",
    "\n",
    "Validate results of the model (Precision/Recall). Tune the parameters of the model to achieve better results"
   ]
  },
  {
   "cell_type": "code",
   "execution_count": 17,
   "id": "44519cfc",
   "metadata": {},
   "outputs": [
    {
     "name": "stdout",
     "output_type": "stream",
     "text": [
      "               precision    recall  f1-score   support\n",
      "\n",
      "Not Sprinting       0.97      0.90      0.93      1624\n",
      "    Sprinting       0.74      0.92      0.82       531\n",
      "\n",
      "     accuracy                           0.90      2155\n",
      "    macro avg       0.86      0.91      0.88      2155\n",
      " weighted avg       0.91      0.90      0.90      2155\n",
      "\n"
     ]
    }
   ],
   "source": [
    "classes = ['Not Sprinting', 'Sprinting']\n",
    "y_pred = RNN(X_val)\n",
    "y_pred = y_pred.ge(.5).view(-1).cpu()\n",
    "y_val = y_val.cpu()\n",
    "print(classification_report(y_val, y_pred, target_names=classes))"
   ]
  },
  {
   "cell_type": "code",
   "execution_count": 18,
   "id": "31ea1818",
   "metadata": {
    "scrolled": false
   },
   "outputs": [
    {
     "data": {
      "image/png": "[encoded data removed]",
      "text/plain": [
       "<Figure size 432x288 with 2 Axes>"
      ]
     },
     "metadata": {
      "needs_background": "light"
     },
     "output_type": "display_data"
    }
   ],
   "source": [
    "cm = confusion_matrix(y_val, y_pred)\n",
    "df_cm = pd.DataFrame(cm, index=classes, columns=classes)\n",
    "hmap = sns.heatmap(df_cm, annot=True, fmt=\"d\")\n",
    "hmap.yaxis.set_ticklabels(hmap.yaxis.get_ticklabels(), rotation=0, ha='right')\n",
    "hmap.xaxis.set_ticklabels(hmap.xaxis.get_ticklabels(), rotation=30, ha='right')\n",
    "plt.ylabel('True label')\n",
    "plt.xlabel('Predicted label');"
   ]
  },
  {
   "cell_type": "markdown",
   "id": "be271955",
   "metadata": {},
   "source": [
    "# Export results"
   ]
  },
  {
   "cell_type": "code",
   "execution_count": 19,
   "id": "9610f86d",
   "metadata": {},
   "outputs": [
    {
     "data": {
      "text/html": [
       "<div>\n",
       "<style scoped>\n",
       "    .dataframe tbody tr th:only-of-type {\n",
       "        vertical-align: middle;\n",
       "    }\n",
       "\n",
       "    .dataframe tbody tr th {\n",
       "        vertical-align: top;\n",
       "    }\n",
       "\n",
       "    .dataframe thead th {\n",
       "        text-align: right;\n",
       "    }\n",
       "</style>\n",
       "<table border=\"1\" class=\"dataframe\">\n",
       "  <thead>\n",
       "    <tr style=\"text-align: right;\">\n",
       "      <th></th>\n",
       "      <th>0</th>\n",
       "    </tr>\n",
       "  </thead>\n",
       "  <tbody>\n",
       "    <tr>\n",
       "      <th>0</th>\n",
       "      <td>False</td>\n",
       "    </tr>\n",
       "    <tr>\n",
       "      <th>1</th>\n",
       "      <td>True</td>\n",
       "    </tr>\n",
       "    <tr>\n",
       "      <th>2</th>\n",
       "      <td>True</td>\n",
       "    </tr>\n",
       "    <tr>\n",
       "      <th>3</th>\n",
       "      <td>False</td>\n",
       "    </tr>\n",
       "    <tr>\n",
       "      <th>4</th>\n",
       "      <td>True</td>\n",
       "    </tr>\n",
       "    <tr>\n",
       "      <th>...</th>\n",
       "      <td>...</td>\n",
       "    </tr>\n",
       "    <tr>\n",
       "      <th>2150</th>\n",
       "      <td>False</td>\n",
       "    </tr>\n",
       "    <tr>\n",
       "      <th>2151</th>\n",
       "      <td>False</td>\n",
       "    </tr>\n",
       "    <tr>\n",
       "      <th>2152</th>\n",
       "      <td>False</td>\n",
       "    </tr>\n",
       "    <tr>\n",
       "      <th>2153</th>\n",
       "      <td>False</td>\n",
       "    </tr>\n",
       "    <tr>\n",
       "      <th>2154</th>\n",
       "      <td>False</td>\n",
       "    </tr>\n",
       "  </tbody>\n",
       "</table>\n",
       "<p>2155 rows × 1 columns</p>\n",
       "</div>"
      ],
      "text/plain": [
       "          0\n",
       "0     False\n",
       "1      True\n",
       "2      True\n",
       "3     False\n",
       "4      True\n",
       "...     ...\n",
       "2150  False\n",
       "2151  False\n",
       "2152  False\n",
       "2153  False\n",
       "2154  False\n",
       "\n",
       "[2155 rows x 1 columns]"
      ]
     },
     "execution_count": 19,
     "metadata": {},
     "output_type": "execute_result"
    }
   ],
   "source": [
    "df_results = pd.DataFrame(y_pred)\n",
    "df_results.to_csv('Predictions_15x2_Quartor'+str(Quarter)+'_Overlap.csv')\n",
    "df_results"
   ]
  },
  {
   "cell_type": "markdown",
   "id": "5d69b558",
   "metadata": {},
   "source": [
    "# Close Kernel"
   ]
  },
  {
   "cell_type": "code",
   "execution_count": null,
   "id": "83dd8eed",
   "metadata": {},
   "outputs": [
    {
     "data": {
      "application/javascript": [
       "Jupyter.notebook.session.delete();\n"
      ],
      "text/plain": [
       "<IPython.core.display.Javascript object>"
      ]
     },
     "metadata": {},
     "output_type": "display_data"
    }
   ],
   "source": [
    "%%javascript \n",
    "Jupyter.notebook.session.delete();"
   ]
  },
  {
   "cell_type": "code",
   "execution_count": null,
   "id": "e540b6ad",
   "metadata": {},
   "outputs": [],
   "source": []
  }
 ],
 "metadata": {
  "kernelspec": {
   "display_name": "Python 3 (ipykernel)",
   "language": "python",
   "name": "python3"
  },
  "language_info": {
   "codemirror_mode": {
    "name": "ipython",
    "version": 3
   },
   "file_extension": ".py",
   "mimetype": "text/x-python",
   "name": "python",
   "nbconvert_exporter": "python",
   "pygments_lexer": "ipython3",
   "version": "3.9.7"
  }
 },
 "nbformat": 4,
 "nbformat_minor": 5
}
