{
 "cells": [
  {
   "cell_type": "markdown",
   "id": "3b5b9306",
   "metadata": {},
   "source": [
    "# Libraries\n",
    "\n",
    "Import your libraries\n",
    "https://towardsdatascience.com/how-to-use-convolutional-neural-networks-for-time-series-classification-56b1b0a07a57"
   ]
  },
  {
   "cell_type": "code",
   "execution_count": 1,
   "id": "6767672b",
   "metadata": {},
   "outputs": [
    {
     "name": "stdout",
     "output_type": "stream",
     "text": [
      "using gpu 3\n"
     ]
    }
   ],
   "source": [
    "import torch\n",
    "import os\n",
    "import math\n",
    "import numpy as np\n",
    "import pandas as pd\n",
    "from tqdm import tqdm\n",
    "import seaborn as sns\n",
    "from pylab import rcParams\n",
    "import matplotlib.pyplot as plt\n",
    "from matplotlib import rc\n",
    "from torch.utils.data import DataLoader, TensorDataset\n",
    "from sklearn.utils import resample\n",
    "from sklearn.model_selection import train_test_split\n",
    "from sklearn.metrics import confusion_matrix, classification_report\n",
    "from torch import nn, optim\n",
    "import torch.nn.functional as F"
   ]
  },
  {
   "cell_type": "markdown",
   "id": "1a9e9f42",
   "metadata": {},
   "source": [
    "# Importing Data\n",
    "\n",
    "Import the CSV file with Actions, Sum and Div as a Dataframe called df. Fill the empty values of Action with 0. \n",
    "Replace NaN values with 0. Delete first 100 rows. "
   ]
  },
  {
   "cell_type": "code",
   "execution_count": 2,
   "id": "1e06fbe8",
   "metadata": {},
   "outputs": [],
   "source": [
    "#load in df\n",
    "Player = 15\n",
    "Game = 2\n",
    "Quarter = 2\n",
    "\n",
    "df = pd.read_csv('matrix_Player_15_game_2_QuarterSplit_V2.csv') #Raw data with overlap\n",
    "\n",
    "chunks = [df[i:i+100] for i in range(0,df.shape[0],50)]\n",
    "\n",
    "df = pd.concat(chunks)\n",
    "\n",
    "df['wheelRotationalSpeedX_Diff'] = np.insert(np.diff(df.wheelRotationalSpeedX,n=1),0,0)\n",
    "\n",
    "#Clean and expand dataset\n",
    "df = df.drop(columns = ['Unnamed: 0'])"
   ]
  },
  {
   "cell_type": "markdown",
   "id": "89d8a9e3",
   "metadata": {},
   "source": [
    "# Data Preparating\n",
    "\n",
    "Split data into a train and val set "
   ]
  },
  {
   "cell_type": "code",
   "execution_count": 3,
   "id": "35d34b0f",
   "metadata": {},
   "outputs": [],
   "source": [
    "train = df[df.Quarter != Quarter]\n",
    "val = df[df.Quarter == Quarter]\n",
    "\n",
    "def rounddown(x):\n",
    "    return (int(math.ceil(x / 100.0)) * 100) - 100\n",
    "\n",
    "features = ['wheelRotationalSpeedX','frameRotationalSpeedZ','frAcc','wheelRotationalSpeedX_Diff']\n",
    "\n",
    "X_train = train[features]\n",
    "X_train = X_train.iloc[0:rounddown(len(X_train))]\n",
    "\n",
    "y_train = train[['Action']]\n",
    "y_train = y_train.iloc[0:rounddown(len(y_train))]\n",
    "\n",
    "X_val = val[features]\n",
    "X_val = X_val.iloc[0:rounddown(len(X_val))]\n",
    "\n",
    "y_val = val[['Action']]\n",
    "y_val = y_val.iloc[0:rounddown(len(y_val))]"
   ]
  },
  {
   "cell_type": "code",
   "execution_count": 4,
   "id": "07891be1",
   "metadata": {},
   "outputs": [],
   "source": [
    "y_train = np.array_split(y_train, int(len(y_train)/100))\n",
    "y_train = np.asarray(y_train)\n",
    "\n",
    "y = []\n",
    "for i in range (0,len(y_train)):\n",
    "    y.append(y_train[i].max())\n",
    "y_train = np.asarray(y)\n",
    "y_train = pd.DataFrame(y_train)\n",
    "\n",
    "\n",
    "y_val = np.array_split(y_val, int(len(y_val)/100))\n",
    "y_val = np.asarray(y_val)\n",
    "\n",
    "y = []\n",
    "for i in range (0,len(y_val)):\n",
    "    y.append(y_val[i].max())\n",
    "y_val = np.asarray(y)\n",
    "y_val= pd.DataFrame(y_val)"
   ]
  },
  {
   "cell_type": "markdown",
   "id": "705c56a6",
   "metadata": {},
   "source": [
    "## Slicing the train and test sets into windows of 1 sec (100 samples per window)"
   ]
  },
  {
   "cell_type": "code",
   "execution_count": 5,
   "id": "b2e80faf",
   "metadata": {},
   "outputs": [],
   "source": [
    "size_batch = 100\n",
    "channels = 3"
   ]
  },
  {
   "cell_type": "code",
   "execution_count": 6,
   "id": "9af09198",
   "metadata": {},
   "outputs": [
    {
     "name": "stdout",
     "output_type": "stream",
     "text": [
      "(6904, 3, 100)\n"
     ]
    }
   ],
   "source": [
    "A1 = X_train['wheelRotationalSpeedX'].to_numpy().reshape(int(len(X_train)/size_batch),size_batch)\n",
    "A2 = X_train['frameRotationalSpeedZ'].to_numpy().reshape(int(len(X_train)/size_batch),size_batch)\n",
    "A3 = X_train['frAcc'].to_numpy().reshape(int(len(X_train)/size_batch),size_batch)\n",
    "\n",
    "X_train = np.stack((A1,A2,A3),axis=1)\n",
    "X_train = X_train.reshape([int(len(X_train)),channels,size_batch])\n",
    "print(X_train.shape)"
   ]
  },
  {
   "cell_type": "code",
   "execution_count": 7,
   "id": "b5cfb938",
   "metadata": {},
   "outputs": [],
   "source": [
    "A1 = X_val['wheelRotationalSpeedX'].to_numpy().reshape(int(len(X_val)/size_batch),size_batch)\n",
    "A2 = X_val['frameRotationalSpeedZ'].to_numpy().reshape(int(len(X_val)/size_batch),size_batch)\n",
    "A3 = X_val['frAcc'].to_numpy().reshape(int(len(X_val)/size_batch),size_batch)\n",
    "\n",
    "X_val = np.stack((A1,A2,A3),axis=1)\n",
    "X_val = X_val.reshape([int(len(X_val)),channels,size_batch])"
   ]
  },
  {
   "cell_type": "markdown",
   "id": "4e687c5c",
   "metadata": {},
   "source": [
    "## Balancing the data (Copy all positives and paste them after X_train)"
   ]
  },
  {
   "cell_type": "code",
   "execution_count": 8,
   "id": "3b64af3f",
   "metadata": {},
   "outputs": [],
   "source": [
    "X_train_Resample = pd.DataFrame()\n",
    "y_train_Resample = pd.DataFrame()\n",
    "\n",
    "y_train = y_train.squeeze()\n",
    "y_train = y_train.to_numpy()\n",
    "\n",
    "for i in range(0,len(y_train)):\n",
    "    if y_train[i] == 1:\n",
    "        X_train_Resample = X_train_Resample.append(pd.DataFrame(X_train[i]))    \n",
    "        y_train_Resample = y_train_Resample.append(pd.DataFrame([1]))"
   ]
  },
  {
   "cell_type": "code",
   "execution_count": 9,
   "id": "b3687268",
   "metadata": {},
   "outputs": [
    {
     "name": "stderr",
     "output_type": "stream",
     "text": [
      "/opt/jupyterhub/anaconda/lib/python3.9/site-packages/seaborn/_decorators.py:36: FutureWarning: Pass the following variable as a keyword arg: x. From version 0.12, the only valid positional argument will be `data`, and passing other arguments without an explicit keyword will result in an error or misinterpretation.\n",
      "  warnings.warn(\n"
     ]
    },
    {
     "data": {
      "text/plain": [
       "<AxesSubplot:ylabel='count'>"
      ]
     },
     "execution_count": 9,
     "metadata": {},
     "output_type": "execute_result"
    },
    {
     "data": {
      "image/png": "[encoded data removed]",
      "text/plain": [
       "<Figure size 432x288 with 1 Axes>"
      ]
     },
     "metadata": {
      "needs_background": "light"
     },
     "output_type": "display_data"
    }
   ],
   "source": [
    "X_train_Resample = X_train_Resample.to_numpy()\n",
    "X_train_Resample = X_train_Resample.reshape([int(len(X_train_Resample)/channels),channels,size_batch])\n",
    "\n",
    "y_train_Resample = y_train_Resample.to_numpy().reshape([len(y_train_Resample)])\n",
    "\n",
    "for i in range(0,1):\n",
    "    X_train_Resample = np.concatenate((X_train_Resample, X_train_Resample), axis=0)\n",
    "    y_train_Resample = np.concatenate((y_train_Resample, y_train_Resample), axis=0)\n",
    "    \n",
    "X_train_Resample = np.concatenate((X_train, X_train_Resample), axis=0)\n",
    "y_train_Resample = np.concatenate((y_train, y_train_Resample), axis=0)\n",
    "\n",
    "sns.countplot(y_train_Resample)"
   ]
  },
  {
   "cell_type": "markdown",
   "id": "0ab8c9a0",
   "metadata": {},
   "source": [
    "## Convert the X_train, X_test, y_train, y_test to Tensors"
   ]
  },
  {
   "cell_type": "code",
   "execution_count": 10,
   "id": "8e5666da",
   "metadata": {
    "scrolled": true
   },
   "outputs": [],
   "source": [
    "X_train = torch.from_numpy(X_train_Resample).float()\n",
    "y_train = torch.squeeze(torch.from_numpy(y_train_Resample).float())\n",
    "\n",
    "X_val = torch.from_numpy(X_val).float()\n",
    "y_val = torch.squeeze(torch.from_numpy(y_val.to_numpy()).float())"
   ]
  },
  {
   "cell_type": "code",
   "execution_count": 11,
   "id": "48fd2e8a",
   "metadata": {},
   "outputs": [],
   "source": [
    "train_ds = TensorDataset(X_train, y_train)\n",
    "train_dl = DataLoader(train_ds, batch_size=64, num_workers = 4, pin_memory = True)"
   ]
  },
  {
   "cell_type": "markdown",
   "id": "3800e3f9",
   "metadata": {},
   "source": [
    "# CNN def\n",
    "Define the Convolutional Neural Network"
   ]
  },
  {
   "cell_type": "code",
   "execution_count": 12,
   "id": "5d08435f",
   "metadata": {},
   "outputs": [],
   "source": [
    "class model(nn.Module):\n",
    "    def __init__(self,n_features,kernel_size):\n",
    "        super(model, self).__init__()\n",
    "        #Use Padding to get good results \n",
    "        self.conv1 = nn.Conv1d(n_features, 36, kernel_size=kernel_size, stride = 1, padding='same') #3 input channels, 18 output channels\n",
    "        self.conv2 = nn.Conv1d(36, 78, kernel_size=kernel_size, stride = 1, padding='same') #18 input channels from previous Conv. layer, 36 out\n",
    "        self.conv2_drop = nn.Dropout2d() #dropout\n",
    "    \n",
    "        \n",
    "        self.fc1 = nn.Linear(78, 54) #Fully-connected classifier layer\n",
    "        self.fc2 = nn.Linear(54, 19) #Fully-connected classifier layer\n",
    "        self.fc3 = nn.Linear(19,1) #Fully-connected classifier layer\n",
    "    \n",
    "    def forward(self, x):\n",
    "        x = F.relu(F.max_pool1d(self.conv1(x), 10)) #Use bigger Pool1d for model\n",
    "        x = F.relu(F.max_pool1d(self.conv2_drop(self.conv2(x)), 10))\n",
    "        \n",
    "        #point A\n",
    "        x = x.transpose(1, 2)\n",
    "        \n",
    "        #point B\n",
    "        x = self.fc1(x)\n",
    "        x = F.relu(x)\n",
    "        x = F.dropout(x, training=self.training)\n",
    "        x = self.fc2(x)\n",
    "        return torch.sigmoid(self.fc3(x))\n",
    "    \n",
    "    def post_forward(self, y): \n",
    "        return torch.round(y)\n",
    "    \n",
    "CNN = model(X_train.shape[1],50)"
   ]
  },
  {
   "cell_type": "markdown",
   "id": "3327b83b",
   "metadata": {},
   "source": [
    "# Training options"
   ]
  },
  {
   "cell_type": "code",
   "execution_count": 13,
   "id": "22a3a919",
   "metadata": {},
   "outputs": [],
   "source": [
    "criterion = nn.BCELoss()\n",
    "optimizer = optim.Adam(CNN.parameters(), lr=0.001)"
   ]
  },
  {
   "cell_type": "markdown",
   "id": "0343e39a",
   "metadata": {},
   "source": [
    "# Training the NN on the GPU\n"
   ]
  },
  {
   "cell_type": "code",
   "execution_count": 14,
   "id": "54ce4713",
   "metadata": {},
   "outputs": [],
   "source": [
    "device = torch.device(\"cuda:0\" if torch.cuda.is_available() else \"cpu\")\n",
    "\n",
    "X_val = X_val.to(device)\n",
    "y_val = y_val.to(device)\n",
    "\n",
    "CNN = CNN.to(device)\n",
    "criterion = criterion.to(device)"
   ]
  },
  {
   "cell_type": "markdown",
   "id": "5fdef0b1",
   "metadata": {},
   "source": [
    "# Define functions for calculating Accuracy of model"
   ]
  },
  {
   "cell_type": "code",
   "execution_count": 15,
   "id": "af384d59",
   "metadata": {},
   "outputs": [],
   "source": [
    "def calculate_accuracy(y_true, y_pred):\n",
    "    return (y_true == y_pred).sum().float() / len(y_true)"
   ]
  },
  {
   "cell_type": "markdown",
   "id": "93ffc8d0",
   "metadata": {},
   "source": [
    "# For loop through different epochs"
   ]
  },
  {
   "cell_type": "code",
   "execution_count": 19,
   "id": "4b4ced4d",
   "metadata": {
    "scrolled": false
   },
   "outputs": [],
   "source": [
    "def round_tensor(t, decimal_places=3):\n",
    "    return round(t.item(), decimal_places)\n",
    "\n",
    "Results_acc = pd.DataFrame(columns = ['Epoch', 'Acc_train', 'Acc_val'])\n",
    "Results_loss = pd.DataFrame(columns = ['Epoch', 'Loss_train', 'Loss_val'])\n",
    "Results_recall = pd.DataFrame(columns = ['Epoch', 'Recall_val'])\n",
    "Results_prec = pd.DataFrame(columns = ['Epoch', 'Prec_val'])\n",
    "\n",
    "for epoch in range(200):\n",
    "    \n",
    "    y_acc = torch.empty((64),dtype= torch.int32, device = 'cuda')\n",
    "    y_pred_acc = torch.empty((64), device = 'cuda')\n",
    "    \n",
    "    for x, y in train_dl:\n",
    "\n",
    "        x, y = x.to(device), y.to(device)\n",
    "\n",
    "        optimizer.zero_grad()\n",
    "        y_pred = CNN(x)\n",
    "        y_pred = y_pred.squeeze()\n",
    "        train_loss = criterion(y_pred, y)\n",
    "        train_loss.backward()\n",
    "        optimizer.step()\n",
    "        \n",
    "        y_acc = torch.concat([y, y_acc], axis = 0)\n",
    "        y_pred_acc = torch.concat([y_pred, y_pred_acc], axis = 0)\n",
    "        \n",
    "    if epoch % 1 == 0:\n",
    "\n",
    "        train_acc = calculate_accuracy(y_acc, CNN.post_forward(y_pred_acc))\n",
    "        train_loss = criterion(y_pred,y)\n",
    "    \n",
    "        y_val_pred = CNN(X_val)\n",
    "        y_val_pred = torch.squeeze(y_val_pred)\n",
    "        val_loss = criterion(y_val_pred, y_val)\n",
    "        val_acc = calculate_accuracy(y_val, CNN.post_forward(y_val_pred))\n",
    "        \n",
    "        Confusion = confusion_matrix(y_val.cpu(),y_val_pred.ge(.5).view(-1).cpu())\n",
    "        val_recall = Confusion[1][1]/(Confusion[1][1] + Confusion[1][0])\n",
    "        val_prec = Confusion[1][1]/(Confusion[0][1] + Confusion[1][1])\n",
    "        \n",
    "        Acc = {'Epoch': epoch, 'Acc_train': round_tensor(train_acc), 'Acc_val': round_tensor(val_acc)}\n",
    "        Loss = {'Epoch': epoch, 'Loss_train': round_tensor(train_loss), 'Loss_val': round_tensor(val_loss)}\n",
    "        Recall = {'Epoch': epoch, 'Recall_val': round_tensor(val_recall)}\n",
    "        Prec = {'Epoch': epoch,'Prec_val': round_tensor(val_prec)}\n",
    "        \n",
    "        Results_acc = Results_acc.append(Acc, ignore_index=True)\n",
    "        Results_loss = Results_loss.append(Loss, ignore_index=True)\n",
    "        Results_recall = Results_recall.append(Recall, ignore_index=True)\n",
    "        Results_prec = Results_prec.append(Prec, ignore_index=True)"
   ]
  },
  {
   "cell_type": "code",
   "execution_count": 20,
   "id": "4fd50f12",
   "metadata": {},
   "outputs": [
    {
     "data": {
      "image/png": "[encoded data removed]",
      "text/plain": [
       "<Figure size 432x288 with 1 Axes>"
      ]
     },
     "metadata": {
      "needs_background": "light"
     },
     "output_type": "display_data"
    },
    {
     "data": {
      "image/png": "[encoded data removed]",
      "text/plain": [
       "<Figure size 432x288 with 1 Axes>"
      ]
     },
     "metadata": {
      "needs_background": "light"
     },
     "output_type": "display_data"
    }
   ],
   "source": [
    "plt.plot(Results_acc.Epoch,Results_acc.Acc_train,'r',Results_acc.Epoch,Results_acc.Acc_val,'b')\n",
    "plt.legend(['Train','Val'])\n",
    "plt.title('Accuracy of RNN')\n",
    "plt.ylabel('Accuracy')\n",
    "plt.xlabel('Epochs')\n",
    "plt.show()\n",
    "\n",
    "plt.plot(Results_loss.Epoch,Results_loss.Loss_train,'r',Results_loss.Epoch,Results_loss.Loss_val,'b')\n",
    "plt.legend(['Train','Val'])\n",
    "plt.title('Loss')\n",
    "plt.ylabel('Loss')\n",
    "plt.xlabel('Epochs')\n",
    "plt.show()"
   ]
  },
  {
   "cell_type": "code",
   "execution_count": 21,
   "id": "abbd2caa",
   "metadata": {},
   "outputs": [
    {
     "data": {
      "image/png": "[encoded data removed]",
      "text/plain": [
       "<Figure size 432x288 with 1 Axes>"
      ]
     },
     "metadata": {
      "needs_background": "light"
     },
     "output_type": "display_data"
    },
    {
     "data": {
      "image/png": "[encoded data removed]",
      "text/plain": [
       "<Figure size 432x288 with 1 Axes>"
      ]
     },
     "metadata": {
      "needs_background": "light"
     },
     "output_type": "display_data"
    }
   ],
   "source": [
    "plt.plot(Results_recall.Epoch , Results_recall.Recall_val,'b')\n",
    "plt.legend(['Val'])\n",
    "plt.title('Recall Sprinting = 1')\n",
    "plt.ylabel('Recall')\n",
    "plt.xlabel('Epochs')\n",
    "plt.show()\n",
    "\n",
    "plt.plot(Results_prec.Epoch,Results_prec.Prec_val,'b')\n",
    "plt.legend(['Val'])\n",
    "plt.title('Precision Sprinting = 1')\n",
    "plt.ylabel('Precision')\n",
    "plt.xlabel('Epochs')\n",
    "plt.show()"
   ]
  },
  {
   "cell_type": "markdown",
   "id": "505a2a3f",
   "metadata": {},
   "source": [
    "# Validate/Tune Model\n",
    "\n",
    "Validate results of the model (Precision/Recall). Tune the parameters of the model to achieve better results"
   ]
  },
  {
   "cell_type": "code",
   "execution_count": 22,
   "id": "44519cfc",
   "metadata": {
    "scrolled": true
   },
   "outputs": [
    {
     "name": "stdout",
     "output_type": "stream",
     "text": [
      "               precision    recall  f1-score   support\n",
      "\n",
      "Not Sprinting       0.98      0.79      0.87      1624\n",
      "    Sprinting       0.59      0.94      0.73       531\n",
      "\n",
      "     accuracy                           0.83      2155\n",
      "    macro avg       0.78      0.86      0.80      2155\n",
      " weighted avg       0.88      0.83      0.84      2155\n",
      "\n"
     ]
    }
   ],
   "source": [
    "classes = ['Not Sprinting', 'Sprinting']\n",
    "y_pred = CNN(X_val)\n",
    "y_pred = y_pred.ge(.5).view(-1).cpu()\n",
    "y_val = y_val.cpu()\n",
    "print(classification_report(y_val, y_pred, target_names=classes))"
   ]
  },
  {
   "cell_type": "code",
   "execution_count": 23,
   "id": "31ea1818",
   "metadata": {
    "scrolled": true
   },
   "outputs": [
    {
     "data": {
      "image/png": "[encoded data removed]",
      "text/plain": [
       "<Figure size 432x288 with 2 Axes>"
      ]
     },
     "metadata": {
      "needs_background": "light"
     },
     "output_type": "display_data"
    }
   ],
   "source": [
    "cm = confusion_matrix(y_val, y_pred)\n",
    "df_cm = pd.DataFrame(cm, index=classes, columns=classes)\n",
    "hmap = sns.heatmap(df_cm, annot=True, fmt=\"d\")\n",
    "hmap.yaxis.set_ticklabels(hmap.yaxis.get_ticklabels(), rotation=0, ha='right')\n",
    "hmap.xaxis.set_ticklabels(hmap.xaxis.get_ticklabels(), rotation=30, ha='right')\n",
    "plt.ylabel('True label')\n",
    "plt.xlabel('Predicted label');"
   ]
  },
  {
   "cell_type": "markdown",
   "id": "0f5259b7",
   "metadata": {},
   "source": [
    "# Closing Notebook"
   ]
  },
  {
   "cell_type": "code",
   "execution_count": null,
   "id": "bb9ac303",
   "metadata": {},
   "outputs": [
    {
     "data": {
      "application/javascript": [
       "Jupyter.notebook.session.delete();\n"
      ],
      "text/plain": [
       "<IPython.core.display.Javascript object>"
      ]
     },
     "metadata": {},
     "output_type": "display_data"
    }
   ],
   "source": [
    "%%javascript\n",
    "Jupyter.notebook.session.delete();"
   ]
  },
  {
   "cell_type": "code",
   "execution_count": null,
   "id": "76b876ce",
   "metadata": {},
   "outputs": [],
   "source": []
  }
 ],
 "metadata": {
  "kernelspec": {
   "display_name": "Python 3 (ipykernel)",
   "language": "python",
   "name": "python3"
  },
  "language_info": {
   "codemirror_mode": {
    "name": "ipython",
    "version": 3
   },
   "file_extension": ".py",
   "mimetype": "text/x-python",
   "name": "python",
   "nbconvert_exporter": "python",
   "pygments_lexer": "ipython3",
   "version": "3.9.7"
  }
 },
 "nbformat": 4,
 "nbformat_minor": 5
}
