{
 "cells": [
  {
   "cell_type": "markdown",
   "id": "3b5b9306",
   "metadata": {},
   "source": [
    "# Libraries\n",
    "\n",
    "Import your libraries\n",
    "https://towardsdatascience.com/how-to-use-convolutional-neural-networks-for-time-series-classification-56b1b0a07a57"
   ]
  },
  {
   "cell_type": "code",
   "execution_count": 1,
   "id": "6767672b",
   "metadata": {},
   "outputs": [
    {
     "name": "stdout",
     "output_type": "stream",
     "text": [
      "using gpu 3\n"
     ]
    }
   ],
   "source": [
    "import torch\n",
    "import os\n",
    "import math\n",
    "import numpy as np\n",
    "import pandas as pd\n",
    "from tqdm import tqdm\n",
    "import seaborn as sns\n",
    "from pylab import rcParams\n",
    "import matplotlib.pyplot as plt\n",
    "from matplotlib import rc\n",
    "from torch.utils.data import DataLoader, TensorDataset\n",
    "from sklearn.utils import resample\n",
    "from sklearn.model_selection import train_test_split\n",
    "from sklearn.metrics import confusion_matrix, classification_report\n",
    "from torch import nn, optim\n",
    "import torch.nn.functional as F"
   ]
  },
  {
   "cell_type": "markdown",
   "id": "1a9e9f42",
   "metadata": {},
   "source": [
    "# Importing Data\n",
    "\n",
    "Import the CSV file with Actions, Sum and Div as a Dataframe called df. Fill the empty values of Action with 0. \n",
    "Replace NaN values with 0. Delete first 100 rows. "
   ]
  },
  {
   "cell_type": "code",
   "execution_count": 2,
   "id": "1e06fbe8",
   "metadata": {},
   "outputs": [
    {
     "data": {
      "text/html": [
       "<div>\n",
       "<style scoped>\n",
       "    .dataframe tbody tr th:only-of-type {\n",
       "        vertical-align: middle;\n",
       "    }\n",
       "\n",
       "    .dataframe tbody tr th {\n",
       "        vertical-align: top;\n",
       "    }\n",
       "\n",
       "    .dataframe thead th {\n",
       "        text-align: right;\n",
       "    }\n",
       "</style>\n",
       "<table border=\"1\" class=\"dataframe\">\n",
       "  <thead>\n",
       "    <tr style=\"text-align: right;\">\n",
       "      <th></th>\n",
       "      <th>Unnamed: 0</th>\n",
       "      <th>frAcc</th>\n",
       "      <th>frRoAcc</th>\n",
       "      <th>frDispl</th>\n",
       "      <th>frRoAng</th>\n",
       "      <th>frSpeed</th>\n",
       "      <th>timeLine</th>\n",
       "      <th>frameRotationalSpeedX</th>\n",
       "      <th>frameRotationalSpeedY</th>\n",
       "      <th>frameRotationalSpeedZ</th>\n",
       "      <th>wheelRotationalSpeedX</th>\n",
       "      <th>wheelRotationalSpeedY</th>\n",
       "      <th>wheelRotationalSpeedZ</th>\n",
       "      <th>frRoSpeed</th>\n",
       "      <th>Filt_WheelX</th>\n",
       "      <th>Filt_FrameZ</th>\n",
       "      <th>Action</th>\n",
       "      <th>Quarter</th>\n",
       "      <th>wheelRotationalSpeedX_Diff</th>\n",
       "    </tr>\n",
       "  </thead>\n",
       "  <tbody>\n",
       "    <tr>\n",
       "      <th>0</th>\n",
       "      <td>0</td>\n",
       "      <td>17.91200</td>\n",
       "      <td>2828.7</td>\n",
       "      <td>3394.9</td>\n",
       "      <td>81.515</td>\n",
       "      <td>0.23278</td>\n",
       "      <td>3581.0</td>\n",
       "      <td>7.3500</td>\n",
       "      <td>-8.9367</td>\n",
       "      <td>80.033</td>\n",
       "      <td>-32.737</td>\n",
       "      <td>-39.114</td>\n",
       "      <td>45.033</td>\n",
       "      <td>-11.8030</td>\n",
       "      <td>67.674366</td>\n",
       "      <td>8.849375</td>\n",
       "      <td>0.0</td>\n",
       "      <td>1</td>\n",
       "      <td>0.000</td>\n",
       "    </tr>\n",
       "    <tr>\n",
       "      <th>1</th>\n",
       "      <td>1</td>\n",
       "      <td>7.14760</td>\n",
       "      <td>2828.7</td>\n",
       "      <td>3395.7</td>\n",
       "      <td>81.397</td>\n",
       "      <td>0.41190</td>\n",
       "      <td>3581.0</td>\n",
       "      <td>4.0600</td>\n",
       "      <td>-8.1200</td>\n",
       "      <td>80.010</td>\n",
       "      <td>-1.050</td>\n",
       "      <td>-15.960</td>\n",
       "      <td>38.570</td>\n",
       "      <td>83.6110</td>\n",
       "      <td>65.140780</td>\n",
       "      <td>8.214781</td>\n",
       "      <td>0.0</td>\n",
       "      <td>1</td>\n",
       "      <td>31.687</td>\n",
       "    </tr>\n",
       "    <tr>\n",
       "      <th>2</th>\n",
       "      <td>2</td>\n",
       "      <td>-0.89061</td>\n",
       "      <td>2828.8</td>\n",
       "      <td>3396.5</td>\n",
       "      <td>82.233</td>\n",
       "      <td>0.48338</td>\n",
       "      <td>3581.0</td>\n",
       "      <td>-17.5700</td>\n",
       "      <td>-0.4200</td>\n",
       "      <td>81.340</td>\n",
       "      <td>10.780</td>\n",
       "      <td>-32.340</td>\n",
       "      <td>45.640</td>\n",
       "      <td>-789.0700</td>\n",
       "      <td>62.446959</td>\n",
       "      <td>7.721630</td>\n",
       "      <td>0.0</td>\n",
       "      <td>1</td>\n",
       "      <td>11.830</td>\n",
       "    </tr>\n",
       "    <tr>\n",
       "      <th>3</th>\n",
       "      <td>3</td>\n",
       "      <td>4.17050</td>\n",
       "      <td>2828.8</td>\n",
       "      <td>3397.3</td>\n",
       "      <td>74.342</td>\n",
       "      <td>0.47447</td>\n",
       "      <td>3581.0</td>\n",
       "      <td>-1.6940</td>\n",
       "      <td>-10.5000</td>\n",
       "      <td>72.576</td>\n",
       "      <td>16.485</td>\n",
       "      <td>-41.601</td>\n",
       "      <td>51.163</td>\n",
       "      <td>-1.0099</td>\n",
       "      <td>59.592743</td>\n",
       "      <td>7.380241</td>\n",
       "      <td>0.0</td>\n",
       "      <td>1</td>\n",
       "      <td>5.705</td>\n",
       "    </tr>\n",
       "    <tr>\n",
       "      <th>4</th>\n",
       "      <td>4</td>\n",
       "      <td>1.15710</td>\n",
       "      <td>2828.8</td>\n",
       "      <td>3398.0</td>\n",
       "      <td>74.332</td>\n",
       "      <td>0.51618</td>\n",
       "      <td>3581.0</td>\n",
       "      <td>-2.0922</td>\n",
       "      <td>-6.1600</td>\n",
       "      <td>73.111</td>\n",
       "      <td>23.847</td>\n",
       "      <td>-34.619</td>\n",
       "      <td>54.281</td>\n",
       "      <td>94.2010</td>\n",
       "      <td>56.579696</td>\n",
       "      <td>7.199759</td>\n",
       "      <td>0.0</td>\n",
       "      <td>1</td>\n",
       "      <td>7.362</td>\n",
       "    </tr>\n",
       "  </tbody>\n",
       "</table>\n",
       "</div>"
      ],
      "text/plain": [
       "   Unnamed: 0     frAcc  frRoAcc  frDispl  frRoAng  frSpeed  timeLine  \\\n",
       "0           0  17.91200   2828.7   3394.9   81.515  0.23278    3581.0   \n",
       "1           1   7.14760   2828.7   3395.7   81.397  0.41190    3581.0   \n",
       "2           2  -0.89061   2828.8   3396.5   82.233  0.48338    3581.0   \n",
       "3           3   4.17050   2828.8   3397.3   74.342  0.47447    3581.0   \n",
       "4           4   1.15710   2828.8   3398.0   74.332  0.51618    3581.0   \n",
       "\n",
       "   frameRotationalSpeedX  frameRotationalSpeedY  frameRotationalSpeedZ  \\\n",
       "0                 7.3500                -8.9367                 80.033   \n",
       "1                 4.0600                -8.1200                 80.010   \n",
       "2               -17.5700                -0.4200                 81.340   \n",
       "3                -1.6940               -10.5000                 72.576   \n",
       "4                -2.0922                -6.1600                 73.111   \n",
       "\n",
       "   wheelRotationalSpeedX  wheelRotationalSpeedY  wheelRotationalSpeedZ  \\\n",
       "0                -32.737                -39.114                 45.033   \n",
       "1                 -1.050                -15.960                 38.570   \n",
       "2                 10.780                -32.340                 45.640   \n",
       "3                 16.485                -41.601                 51.163   \n",
       "4                 23.847                -34.619                 54.281   \n",
       "\n",
       "   frRoSpeed  Filt_WheelX  Filt_FrameZ  Action  Quarter  \\\n",
       "0   -11.8030    67.674366     8.849375     0.0        1   \n",
       "1    83.6110    65.140780     8.214781     0.0        1   \n",
       "2  -789.0700    62.446959     7.721630     0.0        1   \n",
       "3    -1.0099    59.592743     7.380241     0.0        1   \n",
       "4    94.2010    56.579696     7.199759     0.0        1   \n",
       "\n",
       "   wheelRotationalSpeedX_Diff  \n",
       "0                       0.000  \n",
       "1                      31.687  \n",
       "2                      11.830  \n",
       "3                       5.705  \n",
       "4                       7.362  "
      ]
     },
     "execution_count": 2,
     "metadata": {},
     "output_type": "execute_result"
    }
   ],
   "source": [
    "#load in df\n",
    "Player = 15\n",
    "Game = 2\n",
    "Quarter = 4\n",
    "\n",
    "#df = pd.read_csv('matrix_Player_' + str(Player) + '_game_' + str(Game) + '_QuarterSplit.csv')\n",
    "df = pd.read_csv('Split_RNN_player15game2.csv')\n",
    "\n",
    "df_y = pd.read_csv('Player_15_Game2_Sprints_Q1234.csv')\n",
    "df_y = df_y[['Action','Quarter','timeLine']]\n",
    "#df_y = df_y.iloc[::2]\n",
    "\n",
    "df['wheelRotationalSpeedX_Diff'] = np.insert(np.diff(df.wheelRotationalSpeedX,n=1),0,0)\n",
    "df.head()"
   ]
  },
  {
   "cell_type": "markdown",
   "id": "df1d52e8",
   "metadata": {},
   "source": [
    "# Pre Preprocessing"
   ]
  },
  {
   "cell_type": "code",
   "execution_count": 3,
   "id": "61e656d4",
   "metadata": {},
   "outputs": [],
   "source": [
    "#Convert Sprinting to 1\n",
    "df.Action.replace({'Sprinting': 1},inplace=True)"
   ]
  },
  {
   "cell_type": "markdown",
   "id": "89d8a9e3",
   "metadata": {},
   "source": [
    "# Data Preparating\n",
    "\n",
    "Split data into a train and test set "
   ]
  },
  {
   "cell_type": "code",
   "execution_count": 4,
   "id": "35d34b0f",
   "metadata": {},
   "outputs": [],
   "source": [
    "train = df[df.Quarter != Quarter]\n",
    "test = df[df.Quarter == Quarter]\n",
    "\n",
    "y_train = df_y[df_y.Quarter != Quarter]\n",
    "y_test = df_y[df_y.Quarter == Quarter]\n",
    "y_test = y_test.iloc[:-1 , :]\n",
    "\n",
    "def rounddown(x):\n",
    "    return (int(math.ceil(x / 100.0)) * 100) - 100\n",
    "\n",
    "X_train = train[['wheelRotationalSpeedX','frameRotationalSpeedZ','frAcc']]\n",
    "X_train = X_train.iloc[0:rounddown(len(X_train))]\n",
    "\n",
    "y_train = y_train[['Action']]\n",
    "\n",
    "X_test = test[['wheelRotationalSpeedX','frameRotationalSpeedZ','frAcc']]\n",
    "X_test = X_test.iloc[0:rounddown(len(X_test))]\n",
    "\n",
    "y_test = y_test[['Action']]"
   ]
  },
  {
   "cell_type": "markdown",
   "id": "705c56a6",
   "metadata": {},
   "source": [
    "## Slicing the train and test sets into windows of 1 sec (100 samples per window)"
   ]
  },
  {
   "cell_type": "code",
   "execution_count": 5,
   "id": "b2e80faf",
   "metadata": {},
   "outputs": [],
   "source": [
    "size_batch = 100\n",
    "channels = 3"
   ]
  },
  {
   "cell_type": "code",
   "execution_count": 6,
   "id": "9af09198",
   "metadata": {},
   "outputs": [
    {
     "name": "stdout",
     "output_type": "stream",
     "text": [
      "(7190, 3, 100)\n"
     ]
    }
   ],
   "source": [
    "A1 = X_train['wheelRotationalSpeedX'].to_numpy().reshape(int(len(X_train)/size_batch),size_batch)\n",
    "A2 = X_train['frameRotationalSpeedZ'].to_numpy().reshape(int(len(X_train)/size_batch),size_batch)\n",
    "A3 = X_train['frAcc'].to_numpy().reshape(int(len(X_train)/size_batch),size_batch)\n",
    "\n",
    "X_train = np.stack((A1,A2,A3),axis=1)\n",
    "X_train = X_train.reshape([int(len(X_train)),channels,size_batch])\n",
    "print(X_train.shape)"
   ]
  },
  {
   "cell_type": "code",
   "execution_count": 7,
   "id": "b5cfb938",
   "metadata": {},
   "outputs": [
    {
     "name": "stderr",
     "output_type": "stream",
     "text": [
      "/opt/jupyterhub/anaconda/lib/python3.9/site-packages/seaborn/_decorators.py:36: FutureWarning: Pass the following variable as a keyword arg: x. From version 0.12, the only valid positional argument will be `data`, and passing other arguments without an explicit keyword will result in an error or misinterpretation.\n",
      "  warnings.warn(\n"
     ]
    },
    {
     "data": {
      "text/plain": [
       "<AxesSubplot:xlabel='Action', ylabel='count'>"
      ]
     },
     "execution_count": 7,
     "metadata": {},
     "output_type": "execute_result"
    },
    {
     "data": {
      "image/png": "[encoded data removed]",
      "text/plain": [
       "<Figure size 432x288 with 1 Axes>"
      ]
     },
     "metadata": {
      "needs_background": "light"
     },
     "output_type": "display_data"
    }
   ],
   "source": [
    "A1 = X_test['wheelRotationalSpeedX'].to_numpy().reshape(int(len(X_test)/size_batch),size_batch)\n",
    "A2 = X_test['frameRotationalSpeedZ'].to_numpy().reshape(int(len(X_test)/size_batch),size_batch)\n",
    "A3 = X_test['frAcc'].to_numpy().reshape(int(len(X_test)/size_batch),size_batch)\n",
    "\n",
    "X_test = np.stack((A1,A2,A3),axis=1)\n",
    "X_test = X_test.reshape([int(len(X_test)),channels,size_batch])\n",
    "\n",
    "sns.countplot(y_train.Action)"
   ]
  },
  {
   "cell_type": "markdown",
   "id": "4e687c5c",
   "metadata": {},
   "source": [
    "## Balancing the data (Copy all positives and paste them after X_train)"
   ]
  },
  {
   "cell_type": "code",
   "execution_count": 8,
   "id": "3b64af3f",
   "metadata": {},
   "outputs": [
    {
     "name": "stdout",
     "output_type": "stream",
     "text": [
      "[0. 0. 0. ... 0. 0. 0.]\n"
     ]
    }
   ],
   "source": [
    "X_train_Resample = pd.DataFrame()\n",
    "y_train_Resample = pd.DataFrame()\n",
    "\n",
    "y_train = y_train.squeeze()\n",
    "y_train = y_train.to_numpy()\n",
    "\n",
    "print(y_train)\n",
    "\n",
    "for i in range(0,len(y_train)):\n",
    "    if y_train[i] == 1:\n",
    "        X_train_Resample = X_train_Resample.append(pd.DataFrame(X_train[i]))    \n",
    "        y_train_Resample = y_train_Resample.append(pd.DataFrame([1]))\n"
   ]
  },
  {
   "cell_type": "code",
   "execution_count": 9,
   "id": "b3687268",
   "metadata": {},
   "outputs": [
    {
     "name": "stdout",
     "output_type": "stream",
     "text": [
      "[1 1 1 ... 1 1 1]\n"
     ]
    },
    {
     "name": "stderr",
     "output_type": "stream",
     "text": [
      "/opt/jupyterhub/anaconda/lib/python3.9/site-packages/seaborn/_decorators.py:36: FutureWarning: Pass the following variable as a keyword arg: x. From version 0.12, the only valid positional argument will be `data`, and passing other arguments without an explicit keyword will result in an error or misinterpretation.\n",
      "  warnings.warn(\n"
     ]
    },
    {
     "data": {
      "text/plain": [
       "<AxesSubplot:ylabel='count'>"
      ]
     },
     "execution_count": 9,
     "metadata": {},
     "output_type": "execute_result"
    },
    {
     "data": {
      "image/png": "[encoded data removed]",
      "text/plain": [
       "<Figure size 432x288 with 1 Axes>"
      ]
     },
     "metadata": {
      "needs_background": "light"
     },
     "output_type": "display_data"
    }
   ],
   "source": [
    "X_train_Resample = X_train_Resample.to_numpy()\n",
    "X_train_Resample = X_train_Resample.reshape([int(len(X_train_Resample)/channels),channels,size_batch])\n",
    "\n",
    "y_train_Resample = y_train_Resample.to_numpy().reshape([len(y_train_Resample)])\n",
    "\n",
    "for i in range(0,2):\n",
    "    X_train_Resample = np.concatenate((X_train_Resample, X_train_Resample), axis=0)\n",
    "    y_train_Resample = np.concatenate((y_train_Resample, y_train_Resample), axis=0)\n",
    "\n",
    "print(y_train_Resample)\n",
    "    \n",
    "X_train_Resample = np.concatenate((X_train, X_train_Resample), axis=0)\n",
    "y_train_Resample = np.concatenate((y_train, y_train_Resample), axis=0)\n",
    "\n",
    "sns.countplot(y_train_Resample)"
   ]
  },
  {
   "cell_type": "markdown",
   "id": "0ab8c9a0",
   "metadata": {},
   "source": [
    "## Convert the X_train, X_test, y_train, y_test to Tensors"
   ]
  },
  {
   "cell_type": "code",
   "execution_count": 10,
   "id": "8e5666da",
   "metadata": {
    "scrolled": true
   },
   "outputs": [],
   "source": [
    "X_train = torch.from_numpy(X_train_Resample).float()\n",
    "y_train = torch.squeeze(torch.from_numpy(y_train_Resample).float())\n",
    "\n",
    "X_test = torch.from_numpy(X_test).float()\n",
    "y_test = torch.squeeze(torch.from_numpy(y_test.to_numpy()).float())"
   ]
  },
  {
   "cell_type": "code",
   "execution_count": 11,
   "id": "48fd2e8a",
   "metadata": {},
   "outputs": [],
   "source": [
    "train_ds = TensorDataset(X_train, y_train)\n",
    "train_dl = DataLoader(train_ds, batch_size=64, num_workers = 4, pin_memory = True)"
   ]
  },
  {
   "cell_type": "markdown",
   "id": "3800e3f9",
   "metadata": {},
   "source": [
    "# CNN def\n",
    "Define the Convolutional Neural Network"
   ]
  },
  {
   "cell_type": "code",
   "execution_count": 12,
   "id": "5d08435f",
   "metadata": {},
   "outputs": [],
   "source": [
    "class model(nn.Module):\n",
    "    def __init__(self,n_features,kernel_size):\n",
    "        super(model, self).__init__()\n",
    "        #Use Padding to get good results \n",
    "        self.conv1 = nn.Conv1d(n_features, 36, kernel_size=kernel_size, stride = 1, padding='same') #3 input channels, 18 output channels\n",
    "        self.conv2 = nn.Conv1d(36, 78, kernel_size=kernel_size, stride = 1, padding='same') #18 input channels from previous Conv. layer, 36 out\n",
    "        self.conv2_drop = nn.Dropout2d() #dropout\n",
    "    \n",
    "        \n",
    "        self.fc1 = nn.Linear(78, 54) #Fully-connected classifier layer\n",
    "        self.fc2 = nn.Linear(54, 19) #Fully-connected classifier layer\n",
    "        self.fc3 = nn.Linear(19,1) #Fully-connected classifier layer\n",
    "    \n",
    "    def forward(self, x):\n",
    "        x = F.relu(F.max_pool1d(self.conv1(x), 10)) #Use bigger Pool1d for model\n",
    "        x = F.relu(F.max_pool1d(self.conv2_drop(self.conv2(x)), 10))\n",
    "        \n",
    "        #point A\n",
    "        x = x.transpose(1, 2)\n",
    "        \n",
    "        #point B\n",
    "        x = self.fc1(x)\n",
    "        x = F.relu(x)\n",
    "        x = F.dropout(x, training=self.training)\n",
    "        x = self.fc2(x)\n",
    "        return torch.sigmoid(self.fc3(x))\n",
    "    \n",
    "    def post_forward(self, y): \n",
    "        return torch.round(y)\n",
    "    \n",
    "CNN = model(X_train.shape[1],50)"
   ]
  },
  {
   "cell_type": "markdown",
   "id": "3327b83b",
   "metadata": {},
   "source": [
    "# Training options"
   ]
  },
  {
   "cell_type": "code",
   "execution_count": 13,
   "id": "22a3a919",
   "metadata": {},
   "outputs": [],
   "source": [
    "criterion = nn.BCELoss()\n",
    "optimizer = optim.Adam(CNN.parameters(), lr=0.001)"
   ]
  },
  {
   "cell_type": "markdown",
   "id": "0343e39a",
   "metadata": {},
   "source": [
    "# Training the NN on the GPU\n"
   ]
  },
  {
   "cell_type": "code",
   "execution_count": 14,
   "id": "54ce4713",
   "metadata": {},
   "outputs": [],
   "source": [
    "device = torch.device(\"cuda:0\" if torch.cuda.is_available() else \"cpu\")\n",
    "\n",
    "X_test = X_test.to(device)\n",
    "y_test = y_test.to(device)\n",
    "\n",
    "CNN = CNN.to(device)\n",
    "criterion = criterion.to(device)"
   ]
  },
  {
   "cell_type": "markdown",
   "id": "5fdef0b1",
   "metadata": {},
   "source": [
    "# Define functions for calculating Accuracy of model"
   ]
  },
  {
   "cell_type": "code",
   "execution_count": 15,
   "id": "af384d59",
   "metadata": {},
   "outputs": [],
   "source": [
    "def calculate_accuracy(y_true, y_pred):\n",
    "    return (y_true == y_pred).sum().float() / len(y_true)"
   ]
  },
  {
   "cell_type": "markdown",
   "id": "93ffc8d0",
   "metadata": {},
   "source": [
    "# For loop through different epochs"
   ]
  },
  {
   "cell_type": "code",
   "execution_count": 16,
   "id": "4b4ced4d",
   "metadata": {
    "scrolled": false
   },
   "outputs": [
    {
     "name": "stderr",
     "output_type": "stream",
     "text": [
      "/opt/jupyterhub/anaconda/lib/python3.9/site-packages/torch/nn/modules/conv.py:297: UserWarning: Using padding='same' with even kernel lengths and odd dilation may require a zero-padded copy of the input be created (Triggered internally at  /opt/conda/conda-bld/pytorch_1634272068185/work/aten/src/ATen/native/Convolution.cpp:647.)\n",
      "  return F.conv1d(input, weight, bias, self.stride,\n"
     ]
    }
   ],
   "source": [
    "def round_tensor(t, decimal_places=3):\n",
    "    return round(t.item(), decimal_places)\n",
    "\n",
    "Results_acc = pd.DataFrame(columns = ['Epoch', 'Acc_train', 'Acc_test'])\n",
    "Results_loss = pd.DataFrame(columns = ['Epoch', 'Loss_train', 'Loss_test'])\n",
    "Results_recall = pd.DataFrame(columns = ['Epoch', 'Recall_test'])\n",
    "Results_prec = pd.DataFrame(columns = ['Epoch', 'Prec_test'])\n",
    "\n",
    "for epoch in range(100):\n",
    "\n",
    "    for x, y in train_dl:\n",
    "\n",
    "        x, y = x.to(device), y.to(device)\n",
    "\n",
    "        optimizer.zero_grad()\n",
    "        y_pred = CNN(x)\n",
    "        y_pred = y_pred.squeeze()\n",
    "        train_loss = criterion(y_pred, y)\n",
    "        train_loss.backward()\n",
    "        optimizer.step()\n",
    "\n",
    "    if epoch % 1 == 0:\n",
    "\n",
    "        train_acc = calculate_accuracy(y, CNN.post_forward(y_pred))\n",
    "        train_loss = criterion(y_pred,y)\n",
    "        \n",
    "        y_test_pred = CNN(X_test)\n",
    "        y_test_pred = torch.squeeze(y_test_pred)\n",
    "        test_loss = criterion(y_test_pred, y_test)\n",
    "        test_acc = calculate_accuracy(y_test, CNN.post_forward(y_test_pred))\n",
    "        \n",
    "        Confusion = confusion_matrix(y_test.cpu(),y_test_pred.ge(.5).view(-1).cpu())\n",
    "        test_recall = Confusion[1][1]/(Confusion[1][1] + Confusion[1][0])\n",
    "        test_prec = Confusion[1][1]/(Confusion[0][1] + Confusion[1][1])\n",
    "        \n",
    "        Acc = {'Epoch': epoch, 'Acc_train': round_tensor(train_acc), 'Acc_test': round_tensor(test_acc)}\n",
    "        Loss = {'Epoch': epoch, 'Loss_train': round_tensor(train_loss), 'Loss_test': round_tensor(test_loss)}\n",
    "        Recall = {'Epoch': epoch, 'Recall_test': round_tensor(test_recall)}\n",
    "        Prec = {'Epoch': epoch, 'Prec_test': round_tensor(test_prec)}\n",
    "        \n",
    "        Results_acc = Results_acc.append(Acc, ignore_index=True)\n",
    "        Results_loss = Results_loss.append(Loss, ignore_index=True)\n",
    "        Results_recall = Results_recall.append(Recall, ignore_index=True)\n",
    "        Results_prec = Results_prec.append(Prec, ignore_index=True)"
   ]
  },
  {
   "cell_type": "code",
   "execution_count": 17,
   "id": "4fd50f12",
   "metadata": {},
   "outputs": [
    {
     "data": {
      "image/png": "[encoded data removed]",
      "text/plain": [
       "<Figure size 432x288 with 1 Axes>"
      ]
     },
     "metadata": {
      "needs_background": "light"
     },
     "output_type": "display_data"
    },
    {
     "data": {
      "image/png": "[encoded data removed]",
      "text/plain": [
       "<Figure size 432x288 with 1 Axes>"
      ]
     },
     "metadata": {
      "needs_background": "light"
     },
     "output_type": "display_data"
    }
   ],
   "source": [
    "plt.plot(Results_acc.Epoch,Results_acc.Acc_train,'r',Results_acc.Epoch,Results_acc.Acc_test,'b')\n",
    "plt.legend(['Train','Test'])\n",
    "plt.title('Accuracy of CNN')\n",
    "plt.ylabel('Accuracy')\n",
    "plt.xlabel('Epochs')\n",
    "plt.show()\n",
    "\n",
    "plt.plot(Results_loss.Epoch,Results_loss.Loss_train,'r',Results_loss.Epoch,Results_loss.Loss_test,'b')\n",
    "plt.legend(['Train','Test'])\n",
    "plt.title('Loss')\n",
    "plt.ylabel('Loss')\n",
    "plt.xlabel('Epochs')\n",
    "plt.show()"
   ]
  },
  {
   "cell_type": "code",
   "execution_count": 18,
   "id": "abbd2caa",
   "metadata": {},
   "outputs": [
    {
     "data": {
      "image/png": "[encoded data removed]",
      "text/plain": [
       "<Figure size 432x288 with 1 Axes>"
      ]
     },
     "metadata": {
      "needs_background": "light"
     },
     "output_type": "display_data"
    },
    {
     "data": {
      "image/png": "[encoded data removed]",
      "text/plain": [
       "<Figure size 432x288 with 1 Axes>"
      ]
     },
     "metadata": {
      "needs_background": "light"
     },
     "output_type": "display_data"
    }
   ],
   "source": [
    "plt.plot(Results_recall.Epoch , Results_recall.Recall_test,'b')\n",
    "plt.legend(['Test'])\n",
    "plt.title('Recall Sprinting = 1')\n",
    "plt.ylabel('Recall')\n",
    "plt.xlabel('Epochs')\n",
    "plt.show()\n",
    "\n",
    "plt.plot(Results_prec.Epoch,Results_prec.Prec_test,'b')\n",
    "plt.legend(['Train'])\n",
    "plt.title('Precision Sprinting = 1')\n",
    "plt.ylabel('Precision')\n",
    "plt.xlabel('Epochs')\n",
    "plt.show()"
   ]
  },
  {
   "cell_type": "markdown",
   "id": "505a2a3f",
   "metadata": {},
   "source": [
    "# Validate/Tune Model\n",
    "\n",
    "Validate results of the model (Precision/Recall). Tune the parameters of the model to achieve better results"
   ]
  },
  {
   "cell_type": "code",
   "execution_count": 19,
   "id": "44519cfc",
   "metadata": {
    "scrolled": true
   },
   "outputs": [
    {
     "name": "stdout",
     "output_type": "stream",
     "text": [
      "               precision    recall  f1-score   support\n",
      "\n",
      "Not Sprinting       1.00      0.81      0.90      1656\n",
      "    Sprinting       0.40      0.98      0.57       212\n",
      "\n",
      "     accuracy                           0.83      1868\n",
      "    macro avg       0.70      0.90      0.73      1868\n",
      " weighted avg       0.93      0.83      0.86      1868\n",
      "\n"
     ]
    }
   ],
   "source": [
    "classes = ['Not Sprinting', 'Sprinting']\n",
    "y_pred = CNN(X_test)\n",
    "y_pred = y_pred.ge(.5).view(-1).cpu()\n",
    "y_test = y_test.cpu()\n",
    "print(classification_report(y_test, y_pred, target_names=classes))"
   ]
  },
  {
   "cell_type": "code",
   "execution_count": 20,
   "id": "31ea1818",
   "metadata": {
    "scrolled": true
   },
   "outputs": [
    {
     "data": {
      "image/png": "[encoded data removed]",
      "text/plain": [
       "<Figure size 432x288 with 2 Axes>"
      ]
     },
     "metadata": {
      "needs_background": "light"
     },
     "output_type": "display_data"
    }
   ],
   "source": [
    "cm = confusion_matrix(y_test, y_pred)\n",
    "df_cm = pd.DataFrame(cm, index=classes, columns=classes)\n",
    "hmap = sns.heatmap(df_cm, annot=True, fmt=\"d\")\n",
    "hmap.yaxis.set_ticklabels(hmap.yaxis.get_ticklabels(), rotation=0, ha='right')\n",
    "hmap.xaxis.set_ticklabels(hmap.xaxis.get_ticklabels(), rotation=30, ha='right')\n",
    "plt.ylabel('True label')\n",
    "plt.xlabel('Predicted label');"
   ]
  },
  {
   "cell_type": "markdown",
   "id": "0f5259b7",
   "metadata": {},
   "source": [
    "# Closing Notebook"
   ]
  },
  {
   "cell_type": "code",
   "execution_count": null,
   "id": "bb9ac303",
   "metadata": {},
   "outputs": [
    {
     "data": {
      "application/javascript": [
       "Jupyter.notebook.session.delete();\n"
      ],
      "text/plain": [
       "<IPython.core.display.Javascript object>"
      ]
     },
     "metadata": {},
     "output_type": "display_data"
    }
   ],
   "source": [
    "%%javascript\n",
    "Jupyter.notebook.session.delete();"
   ]
  },
  {
   "cell_type": "code",
   "execution_count": null,
   "id": "76b876ce",
   "metadata": {},
   "outputs": [],
   "source": []
  }
 ],
 "metadata": {
  "kernelspec": {
   "display_name": "Python 3 (ipykernel)",
   "language": "python",
   "name": "python3"
  },
  "language_info": {
   "codemirror_mode": {
    "name": "ipython",
    "version": 3
   },
   "file_extension": ".py",
   "mimetype": "text/x-python",
   "name": "python",
   "nbconvert_exporter": "python",
   "pygments_lexer": "ipython3",
   "version": "3.9.7"
  }
 },
 "nbformat": 4,
 "nbformat_minor": 5
}
